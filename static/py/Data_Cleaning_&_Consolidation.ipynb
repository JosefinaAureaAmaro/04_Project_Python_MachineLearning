{
 "cells": [
  {
   "cell_type": "code",
   "execution_count": 1,
   "metadata": {},
   "outputs": [],
   "source": [
    "import pandas as pd\n",
    "import numpy as np\n",
    "import scipy.stats as stats\n",
    "\n",
    "import warnings\n",
    "warnings.filterwarnings('ignore')"
   ]
  },
  {
   "cell_type": "markdown",
   "metadata": {},
   "source": [
    "### <font color='blue'> OECD Data </font>"
   ]
  },
  {
   "cell_type": "markdown",
   "metadata": {},
   "source": [
    "### Import Data"
   ]
  },
  {
   "cell_type": "code",
   "execution_count": 2,
   "metadata": {},
   "outputs": [],
   "source": [
    "# to make a list of csvs titles that will be nested together\n",
    "# dl = download\n",
    "\n",
    "#to read csv of data\n",
    "\n",
    "## data source: OECD\n",
    "dl_avg_annual_hrs_worked_df = pd.read_csv('../data/OECD_Avg_annual_hours_worked_per_worker_original_file.csv')\n",
    "dl_avg_annual_wages_df = pd.read_csv('../data/OECD_Average_annual_wages_original_file.csv')\n",
    "dl_causes_of_mortality_df = pd.read_csv('../data/OECD_Causes_of_mortality_original_file.csv')\n",
    "dl_composite_leading_indicators_df = pd.read_csv('../data/OECD_Compsite_Leading_Indicators_original_file.csv')\n"
   ]
  },
  {
   "cell_type": "markdown",
   "metadata": {},
   "source": [
    "### High-level Data Cleaning & Aggregation"
   ]
  },
  {
   "cell_type": "code",
   "execution_count": 3,
   "metadata": {},
   "outputs": [],
   "source": [
    "# to rename the 'value' column to indicate the content\n",
    "\n",
    "# list of column headers by df \n",
    "value_cols = ['Avg. Work Hours (Annual)','Avg. Wages (Annual)','Mortality Causes','CLI Values (Monthly)']\n",
    "# dict of dataframes \n",
    "oecd_dfs = {0: dl_avg_annual_hrs_worked_df, \n",
    "            1: dl_avg_annual_wages_df,\n",
    "            2: dl_causes_of_mortality_df, \n",
    "            3: dl_composite_leading_indicators_df\n",
    "           }\n",
    "\n",
    "## lists for editing dataframes\n",
    "list_of_cols_to_drop = [\"TIME\",\n",
    "                        \"YEA\",\n",
    "                        \"Unit Code\",\n",
    "                        \"EMPSTAT\",\n",
    "                        \"Frequency\",\n",
    "                        \"FREQUENCY\",\n",
    "                        \"Measure\",\n",
    "                        \"PowerCode Code\",\n",
    "                        \"PowerCode\",\n",
    "                        \"SERIES\",\n",
    "                        \"Reference Period Code\",\n",
    "                        \"Reference Period\",\n",
    "                        \"Flag Codes\",\n",
    "                        \"SUBJECT\",\n",
    "                        \"Reference\",\n",
    "                        \"VAR\",\n",
    "                        \"Flags\"]\n"
   ]
  },
  {
   "cell_type": "code",
   "execution_count": 4,
   "metadata": {},
   "outputs": [
    {
     "name": "stdout",
     "output_type": "stream",
     "text": [
      "before columns ['COU', 'Country', 'Description', 'Time', 'Unit', 'Value', 'Dataset']\n",
      "Completed df 0 of 3\n",
      "final columns ['Dataset', 'COU', 'Country', 'Time', 'Description', 'Value', 'Unit']\n",
      "=========================\n",
      "before columns ['COU', 'Country', 'Description', 'Time', 'Unit', 'Value', 'Dataset']\n",
      "Completed df 1 of 3\n",
      "final columns ['Dataset', 'COU', 'Country', 'Time', 'Description', 'Value', 'Unit']\n",
      "=========================\n",
      "before columns ['Description', 'Unit', 'COU', 'Country', 'Time', 'Value', 'Dataset']\n",
      "Completed df 2 of 3\n",
      "final columns ['Dataset', 'COU', 'Country', 'Time', 'Description', 'Value', 'Unit']\n",
      "=========================\n",
      "before columns ['Description', 'COU', 'Country', 'Time', 'Unit', 'Value', 'Dataset']\n",
      "Completed df 3 of 3\n",
      "final columns ['Dataset', 'COU', 'Country', 'Time', 'Description', 'Value', 'Unit']\n",
      "=========================\n"
     ]
    }
   ],
   "source": [
    "i = 0\n",
    "\n",
    "# iterate through dataframes \n",
    "while i < len(oecd_dfs):\n",
    "    # rename columns per dataframe\n",
    "    ## all edited dataframes are now stored in oecd_dfs object \n",
    "    oecd_dfs[i] = oecd_dfs[i].rename(columns= {\"COUNTRY\":\"COU\",\n",
    "                                 \"LOCATION\":\"COU\",\n",
    "                                 \"UNIT\":\"Unit\",\n",
    "                                 \"Currency\": \"Unit\",\n",
    "                                 \"Year\":\"Time\",\n",
    "                                 \"Variable\":\"Description\", \n",
    "                                 \"Subject\":\"Description\",\n",
    "                                 \"Employment status\":\"Description\",\n",
    "                                 \"Series\":\"Description\"\n",
    "                                 })\n",
    "#                                  \"Value\":value_cols[i]})\n",
    "    \n",
    "    oecd_dfs[i][\"Dataset\"] = value_cols[i]\n",
    "    \n",
    "    # drop columns per dataframe\n",
    "    for item in list_of_cols_to_drop: \n",
    "        # test if column exists in dataframe\n",
    "        if item in oecd_dfs[i].columns:\n",
    "            oecd_dfs[i] = oecd_dfs[i].drop(columns= item)\n",
    "        else:\n",
    "            continue\n",
    "\n",
    "    \n",
    "    # repostion columns in dataframe\n",
    "    # get a list of of columns in the dataframe\n",
    "    print(f\"before columns {list(oecd_dfs[i].columns)}\")\n",
    "    \n",
    "    # assign to df\n",
    "    oecd_dfs[i] = oecd_dfs[i][[\"Dataset\",\"COU\",\"Country\",\"Time\",\"Description\",\"Value\",\"Unit\"]]\n",
    "    \n",
    "    \n",
    "    print(f\"Completed df {i} of 3\")\n",
    "    print(f\"final columns {list(oecd_dfs[i].columns)}\")\n",
    "    print(\"=========================\")   \n",
    "    \n",
    "    \n",
    "    i += 1"
   ]
  },
  {
   "cell_type": "code",
   "execution_count": 5,
   "metadata": {},
   "outputs": [
    {
     "name": "stdout",
     "output_type": "stream",
     "text": [
      "Combined all df\n",
      "=========================\n"
     ]
    }
   ],
   "source": [
    "# to concatenate dataframes\n",
    "oecd_df = pd.concat([oecd_dfs[(0)],oecd_dfs[(1)],oecd_dfs[(2)],oecd_dfs[(3)]],ignore_index=True)\n",
    "print(f\"Combined all df\")\n",
    "print(\"=========================\")"
   ]
  },
  {
   "cell_type": "code",
   "execution_count": 6,
   "metadata": {},
   "outputs": [],
   "source": [
    "oecd_df = oecd_df.dropna(axis=0, how='any')"
   ]
  },
  {
   "cell_type": "code",
   "execution_count": 7,
   "metadata": {},
   "outputs": [],
   "source": [
    "oecd_df.to_csv('../resources/OECD_Dataframes.csv', sep=',' , encoding= 'utf-8', index=False)"
   ]
  },
  {
   "cell_type": "markdown",
   "metadata": {},
   "source": [
    "### Reshaping Data Tables for Machine Learning"
   ]
  },
  {
   "cell_type": "code",
   "execution_count": 8,
   "metadata": {},
   "outputs": [
    {
     "data": {
      "text/plain": [
       "Description\n",
       "Dependent employment    32\n",
       "Total employment        39\n",
       "Name: COU, dtype: int64"
      ]
     },
     "execution_count": 8,
     "metadata": {},
     "output_type": "execute_result"
    }
   ],
   "source": [
    "## show that the same amount of countries in the description .value_counts(sort=True)\n",
    "oecd_dfs[0].loc[:,['Description',\"COU\"]].groupby(\"Description\")['COU'].nunique().sort_values()"
   ]
  },
  {
   "cell_type": "code",
   "execution_count": 9,
   "metadata": {},
   "outputs": [
    {
     "name": "stdout",
     "output_type": "stream",
     "text": [
      "=========\n",
      "Actual Description Used:\n",
      "Description\n",
      "Total employment    39\n",
      "Name: COU, dtype: int64\n",
      "-------------------\n",
      "Unqiue COU by Description:\n",
      "Description\n",
      "Total employment        39\n",
      "Dependent employment    32\n",
      "Name: COU, dtype: int64\n",
      "=========\n",
      "Actual Description Used:\n",
      "Description\n",
      "In 2018 constant prices at 2018 USD PPPs    35\n",
      "Name: COU, dtype: int64\n",
      "-------------------\n",
      "Unqiue COU by Description:\n",
      "Description\n",
      "In 2018 constant prices at 2018 USD PPPs    35\n",
      "Current prices in NCU                       35\n",
      "2018 constant prices and NCU                35\n",
      "Name: COU, dtype: int64\n",
      "=========\n",
      "Actual Description Used:\n",
      "Description\n",
      "All causes of death    41\n",
      "Name: COU, dtype: int64\n",
      "-------------------\n",
      "Unqiue COU by Description:\n",
      "Description\n",
      "Tuberculosis                                                    41\n",
      "Diseases of the blood and blood-forming organs                  41\n",
      "External causes of mortality                                    41\n",
      "Transport Accidents                                             41\n",
      "Diseases of the skin and subcutaneous tissue                    41\n",
      "Diseases of the respiratory system                              41\n",
      "Diseases of the nervous system                                  41\n",
      "Diseases of the musculoskeletal system and connective tissue    41\n",
      "Diseases of the genitourinary system                            41\n",
      "Diseases of the digestive system                                41\n",
      "Diseases of the circulatory system                              41\n",
      "Diabetes mellitus                                               41\n",
      "Influenza                                                       41\n",
      "Congenital malformations and chromosomal abnormalities          41\n",
      "Complications of pregnancy, childbirth and the puerperium       41\n",
      "Certain infectious and parasitic diseases                       41\n",
      "Certain conditions originating in the perinatal period          41\n",
      "Cerebrovascular diseases                                        41\n",
      "Assault                                                         41\n",
      "Alzheimer's disease                                             41\n",
      "All causes of death                                             41\n",
      "Accidental poisoning                                            41\n",
      "HIV-AIDS                                                        41\n",
      "Endocrine, nutritional and metabolic diseases                   41\n",
      "Malignant neoplasms of prostate                                 41\n",
      "Malignant neoplasms of ovary                                    41\n",
      "Symptoms, signs, ill-defined causes                             41\n",
      "Pneumonia                                                       41\n",
      "Peptic ulcer                                                    41\n",
      "Neoplasms                                                       41\n",
      "Mental and behavioural disorders                                41\n",
      "Malignant neoplasms of trachea, bronchus, lung                  41\n",
      "Malignant neoplasms of stomach                                  41\n",
      "Intentional self-harm                                           41\n",
      "Malignant neoplasms of pancreas                                 41\n",
      "Accidental falls                                                41\n",
      "Malignant neoplasms of liver                                    41\n",
      "Malignant neoplasms of Female breast                            41\n",
      "Ischaemic heart diseases                                        41\n",
      "Leukemia                                                        41\n",
      "Malignant neoplasms of colon, rectum and anus                   41\n",
      "Malignant neoplasms                                             41\n",
      "Malignant melanoma of skin                                      41\n",
      "Malignant neoplasms of bladder                                  41\n",
      "Malignant neoplasms of cervix uteri                             41\n",
      "Chronic liver diseases and cirrhosis                            40\n",
      "Chronic obstructive Pulmonary diseases                          40\n",
      "Asthma                                                          40\n",
      "Parkinson's disease                                             40\n",
      "Drug use disorders                                              40\n",
      "Alcohol use disorders                                           40\n",
      "Acute myocardial infarction                                     40\n",
      "Accidents                                                       40\n",
      "Dementia                                                        40\n",
      "Hodgkin’s disease                                               40\n",
      "Name: COU, dtype: int64\n",
      "=========\n",
      "Actual Description Used:\n",
      "Description\n",
      "Amplitude adjusted (CLI)    46\n",
      "Name: COU, dtype: int64\n",
      "-------------------\n",
      "Unqiue COU by Description:\n",
      "Description\n",
      "Ratio to trend (GDP)                                                     47\n",
      "Normalised (GDP)                                                         47\n",
      "Trend restored (CLI)                                                     46\n",
      "Trend (GDP)                                                              46\n",
      "Normalised (CLI)                                                         46\n",
      "Amplitude adjusted (CLI)                                                 46\n",
      "12-month rate of change of the trend restored CLI                        46\n",
      "OECD Standardised BCI, Amplitude adjusted (Long term average=100), sa    45\n",
      "OECD Standardised CCI, Amplitude adjusted (Long term average=100), sa    41\n",
      "Original, seasonally adjusted (GDP)                                       8\n",
      "Name: COU, dtype: int64\n"
     ]
    }
   ],
   "source": [
    "i = 0\n",
    "\n",
    "actual_descriptions = ['Total employment','In 2018 constant prices at 2018 USD PPPs', 'All causes of death','Amplitude adjusted (CLI)']\n",
    "\n",
    "while i < len(oecd_dfs):\n",
    "    # show that the same amount of countries in the description\n",
    "    results =  oecd_dfs[i].loc[:,['Description',\"COU\"]].groupby(\"Description\")['COU'].nunique().sort_values(ascending=False)\n",
    "    actual = results.filter(items = [actual_descriptions[i]])\n",
    "    \n",
    "    print('=========')\n",
    "    print(\"Actual Description Used:\")\n",
    "    print(actual)\n",
    "    print('-------------------')\n",
    "    print(\"Unqiue COU by Description:\")\n",
    "    print(results)\n",
    "    \n",
    "    i+= 1"
   ]
  },
  {
   "cell_type": "markdown",
   "metadata": {},
   "source": [
    "### Consolidating the OECD tables into a Pivot Table"
   ]
  },
  {
   "cell_type": "code",
   "execution_count": 10,
   "metadata": {},
   "outputs": [
    {
     "data": {
      "text/plain": [
       "[2010, 2011, 2012, 2013, 2014, 2015, 2016, 2017]"
      ]
     },
     "execution_count": 10,
     "metadata": {},
     "output_type": "execute_result"
    }
   ],
   "source": [
    "# to make a list of years with a numeric data type for filtering tables\n",
    "years = [*range(2010,2018,1)]\n",
    "years"
   ]
  },
  {
   "cell_type": "code",
   "execution_count": 11,
   "metadata": {},
   "outputs": [],
   "source": [
    "descriptions = ['Total employment','In 2018 constant prices at 2018 USD PPPs','All causes of death',]"
   ]
  },
  {
   "cell_type": "code",
   "execution_count": 12,
   "metadata": {},
   "outputs": [
    {
     "data": {
      "text/html": [
       "<div>\n",
       "<style scoped>\n",
       "    .dataframe tbody tr th:only-of-type {\n",
       "        vertical-align: middle;\n",
       "    }\n",
       "\n",
       "    .dataframe tbody tr th {\n",
       "        vertical-align: top;\n",
       "    }\n",
       "\n",
       "    .dataframe thead th {\n",
       "        text-align: right;\n",
       "    }\n",
       "</style>\n",
       "<table border=\"1\" class=\"dataframe\">\n",
       "  <thead>\n",
       "    <tr style=\"text-align: right;\">\n",
       "      <th></th>\n",
       "      <th>Dataset</th>\n",
       "      <th>COU</th>\n",
       "      <th>Country</th>\n",
       "      <th>Time</th>\n",
       "      <th>Description</th>\n",
       "      <th>Value</th>\n",
       "      <th>Unit</th>\n",
       "    </tr>\n",
       "  </thead>\n",
       "  <tbody>\n",
       "    <tr>\n",
       "      <td>0</td>\n",
       "      <td>Mortality Causes</td>\n",
       "      <td>AUS</td>\n",
       "      <td>Australia</td>\n",
       "      <td>2000</td>\n",
       "      <td>All causes of death</td>\n",
       "      <td>815.7</td>\n",
       "      <td>TXCMILTX</td>\n",
       "    </tr>\n",
       "    <tr>\n",
       "      <td>1</td>\n",
       "      <td>Mortality Causes</td>\n",
       "      <td>AUS</td>\n",
       "      <td>Australia</td>\n",
       "      <td>2001</td>\n",
       "      <td>All causes of death</td>\n",
       "      <td>787.9</td>\n",
       "      <td>TXCMILTX</td>\n",
       "    </tr>\n",
       "    <tr>\n",
       "      <td>2</td>\n",
       "      <td>Mortality Causes</td>\n",
       "      <td>AUS</td>\n",
       "      <td>Australia</td>\n",
       "      <td>2002</td>\n",
       "      <td>All causes of death</td>\n",
       "      <td>791.2</td>\n",
       "      <td>TXCMILTX</td>\n",
       "    </tr>\n",
       "    <tr>\n",
       "      <td>3</td>\n",
       "      <td>Mortality Causes</td>\n",
       "      <td>AUS</td>\n",
       "      <td>Australia</td>\n",
       "      <td>2003</td>\n",
       "      <td>All causes of death</td>\n",
       "      <td>762.2</td>\n",
       "      <td>TXCMILTX</td>\n",
       "    </tr>\n",
       "    <tr>\n",
       "      <td>4</td>\n",
       "      <td>Mortality Causes</td>\n",
       "      <td>AUS</td>\n",
       "      <td>Australia</td>\n",
       "      <td>2004</td>\n",
       "      <td>All causes of death</td>\n",
       "      <td>753.4</td>\n",
       "      <td>TXCMILTX</td>\n",
       "    </tr>\n",
       "  </tbody>\n",
       "</table>\n",
       "</div>"
      ],
      "text/plain": [
       "            Dataset  COU    Country  Time          Description  Value  \\\n",
       "0  Mortality Causes  AUS  Australia  2000  All causes of death  815.7   \n",
       "1  Mortality Causes  AUS  Australia  2001  All causes of death  787.9   \n",
       "2  Mortality Causes  AUS  Australia  2002  All causes of death  791.2   \n",
       "3  Mortality Causes  AUS  Australia  2003  All causes of death  762.2   \n",
       "4  Mortality Causes  AUS  Australia  2004  All causes of death  753.4   \n",
       "\n",
       "       Unit  \n",
       "0  TXCMILTX  \n",
       "1  TXCMILTX  \n",
       "2  TXCMILTX  \n",
       "3  TXCMILTX  \n",
       "4  TXCMILTX  "
      ]
     },
     "execution_count": 12,
     "metadata": {},
     "output_type": "execute_result"
    }
   ],
   "source": [
    "len(oecd_dfs)-2\n",
    "oecd_dfs[2].head()"
   ]
  },
  {
   "cell_type": "markdown",
   "metadata": {},
   "source": [
    "#### To Consolidate Pivot Tables"
   ]
  },
  {
   "cell_type": "code",
   "execution_count": 13,
   "metadata": {},
   "outputs": [
    {
     "name": "stdout",
     "output_type": "stream",
     "text": [
      "Completed 0 Dataframe for year: 2010\n",
      "Completed 0 Dataframe for year: 2011\n",
      "Completed 0 Dataframe for year: 2012\n",
      "Completed 0 Dataframe for year: 2013\n",
      "Completed 0 Dataframe for year: 2014\n",
      "Completed 0 Dataframe for year: 2015\n",
      "Completed 0 Dataframe for year: 2016\n",
      "Completed 0 Dataframe for year: 2017\n",
      "Completed 1 Dataframe for year: 2010\n",
      "Completed 1 Dataframe for year: 2011\n",
      "Completed 1 Dataframe for year: 2012\n",
      "Completed 1 Dataframe for year: 2013\n",
      "Completed 1 Dataframe for year: 2014\n",
      "Completed 1 Dataframe for year: 2015\n",
      "Completed 1 Dataframe for year: 2016\n",
      "Completed 1 Dataframe for year: 2017\n",
      "Completed 2 Dataframe for year: 2010\n",
      "Completed 2 Dataframe for year: 2011\n",
      "Completed 2 Dataframe for year: 2012\n",
      "Completed 2 Dataframe for year: 2013\n",
      "Completed 2 Dataframe for year: 2014\n",
      "Completed 2 Dataframe for year: 2015\n",
      "Completed 2 Dataframe for year: 2016\n",
      "Completed 2 Dataframe for year: 2017\n"
     ]
    }
   ],
   "source": [
    "OECD_pivot_tables=[]\n",
    "\n",
    "## CLI not included because it is an annual report\n",
    "\n",
    "for dfs in range(len(oecd_dfs)-1):\n",
    "    for year in range(len(years)):\n",
    "        \n",
    "        # to filter dataframes by description value\n",
    "        df = oecd_dfs[dfs].loc[(oecd_dfs[dfs]['Time'] == years[year]) & (oecd_dfs[dfs]['Description'] == descriptions[dfs])]\n",
    "        \n",
    "        \n",
    "        # to reshape the data\n",
    "        oecd = pd.pivot_table(df, values='Value', index=['COU','Country'], columns=['Dataset'], aggfunc= np.sum)\n",
    "    \n",
    "        # data cleaning\n",
    "        oecd_tables = oecd.dropna(axis=0).reset_index()\n",
    "    \n",
    "        # append to list\n",
    "        OECD_pivot_tables.append(oecd_tables)\n",
    "    \n",
    "        print(f\"Completed {dfs} Dataframe for year: {years[year]}\")"
   ]
  },
  {
   "cell_type": "code",
   "execution_count": 14,
   "metadata": {},
   "outputs": [
    {
     "data": {
      "text/html": [
       "<div>\n",
       "<style scoped>\n",
       "    .dataframe tbody tr th:only-of-type {\n",
       "        vertical-align: middle;\n",
       "    }\n",
       "\n",
       "    .dataframe tbody tr th {\n",
       "        vertical-align: top;\n",
       "    }\n",
       "\n",
       "    .dataframe thead th {\n",
       "        text-align: right;\n",
       "    }\n",
       "</style>\n",
       "<table border=\"1\" class=\"dataframe\">\n",
       "  <thead>\n",
       "    <tr style=\"text-align: right;\">\n",
       "      <th>Dataset</th>\n",
       "      <th>COU</th>\n",
       "      <th>Country</th>\n",
       "      <th>Mortality Causes</th>\n",
       "    </tr>\n",
       "  </thead>\n",
       "  <tbody>\n",
       "    <tr>\n",
       "      <td>0</td>\n",
       "      <td>AUT</td>\n",
       "      <td>Austria</td>\n",
       "      <td>171632.6</td>\n",
       "    </tr>\n",
       "    <tr>\n",
       "      <td>1</td>\n",
       "      <td>CZE</td>\n",
       "      <td>Czech Republic</td>\n",
       "      <td>228890.0</td>\n",
       "    </tr>\n",
       "    <tr>\n",
       "      <td>2</td>\n",
       "      <td>HUN</td>\n",
       "      <td>Hungary</td>\n",
       "      <td>270917.7</td>\n",
       "    </tr>\n",
       "    <tr>\n",
       "      <td>3</td>\n",
       "      <td>ISL</td>\n",
       "      <td>Iceland</td>\n",
       "      <td>8498.2</td>\n",
       "    </tr>\n",
       "    <tr>\n",
       "      <td>4</td>\n",
       "      <td>LTU</td>\n",
       "      <td>Lithuania</td>\n",
       "      <td>88016.7</td>\n",
       "    </tr>\n",
       "  </tbody>\n",
       "</table>\n",
       "</div>"
      ],
      "text/plain": [
       "Dataset  COU         Country  Mortality Causes\n",
       "0        AUT         Austria          171632.6\n",
       "1        CZE  Czech Republic          228890.0\n",
       "2        HUN         Hungary          270917.7\n",
       "3        ISL         Iceland            8498.2\n",
       "4        LTU       Lithuania           88016.7"
      ]
     },
     "execution_count": 14,
     "metadata": {},
     "output_type": "execute_result"
    }
   ],
   "source": [
    "# to review pivot tables\n",
    "OECD_pivot_tables[23].head(10)"
   ]
  },
  {
   "cell_type": "code",
   "execution_count": 15,
   "metadata": {},
   "outputs": [
    {
     "name": "stdout",
     "output_type": "stream",
     "text": [
      "[0, 1, 2, 3, 4, 5, 6, 7, 8, 9, 10, 11, 12, 13, 14, 15, 16, 17, 18, 19, 20, 21, 22, 23]\n"
     ]
    }
   ],
   "source": [
    "# to slice list of pivot tables by year\n",
    "\n",
    "dataframes = [*range(len(OECD_pivot_tables))]\n",
    "print(dataframes)"
   ]
  },
  {
   "cell_type": "code",
   "execution_count": 16,
   "metadata": {},
   "outputs": [
    {
     "data": {
      "text/plain": [
       "[[0, 8, 16],\n",
       " [1, 9, 17],\n",
       " [2, 10, 18],\n",
       " [3, 11, 19],\n",
       " [4, 12, 20],\n",
       " [5, 13, 21],\n",
       " [6, 14, 22],\n",
       " [7, 15, 23]]"
      ]
     },
     "execution_count": 16,
     "metadata": {},
     "output_type": "execute_result"
    }
   ],
   "source": [
    "def slice_per(source, step):\n",
    "    return [source[i::step] for i in range(step)]\n",
    "\n",
    "yearly_df = slice_per(dataframes,8)\n",
    "yearly_df"
   ]
  },
  {
   "cell_type": "markdown",
   "metadata": {},
   "source": [
    "#### Join Pivot Tables for Machine Learning"
   ]
  },
  {
   "cell_type": "code",
   "execution_count": 17,
   "metadata": {},
   "outputs": [
    {
     "name": "stdout",
     "output_type": "stream",
     "text": [
      "Completed merge of pivot table 0 & 8 & 16\n",
      "Pivot Table created of indexes:[0, 8, 16]\n",
      "Completed merge of pivot table 1 & 9 & 17\n",
      "Pivot Table created of indexes:[1, 9, 17]\n",
      "Completed merge of pivot table 2 & 10 & 18\n",
      "Pivot Table created of indexes:[2, 10, 18]\n",
      "Completed merge of pivot table 3 & 11 & 19\n",
      "Pivot Table created of indexes:[3, 11, 19]\n",
      "Completed merge of pivot table 4 & 12 & 20\n",
      "Pivot Table created of indexes:[4, 12, 20]\n",
      "Completed merge of pivot table 5 & 13 & 21\n",
      "Pivot Table created of indexes:[5, 13, 21]\n",
      "Completed merge of pivot table 6 & 14 & 22\n",
      "Pivot Table created of indexes:[6, 14, 22]\n",
      "Completed merge of pivot table 7 & 15 & 23\n",
      "Pivot Table created of indexes:[7, 15, 23]\n"
     ]
    }
   ],
   "source": [
    "# to inner join the pivot tables per the indexes\n",
    "oecd_ml_df = []\n",
    "\n",
    "\n",
    "try:\n",
    "    for index in yearly_df:            \n",
    "        # to merge 3 pivot tables per dataset column\n",
    "        oecd_df_part1 = pd.merge(OECD_pivot_tables[index[0]], OECD_pivot_tables[index[(0+1)]], on=['COU','Country'], how='inner')\n",
    "\n",
    "        # to merge 3 pivot tables per dataset column\n",
    "        oecd_df_part2 = pd.merge(oecd_df_part1, OECD_pivot_tables[index[(0+2)]], on=['COU','Country'], how='inner')\n",
    "\n",
    "        print(f\"Completed merge of pivot table {index[0]} & {(index[0+1])} & {(index[0+2])}\")\n",
    "\n",
    "        oecd_ml_df.append(oecd_df_part2)\n",
    "        print(f\"Pivot Table created of indexes:{index}\")\n",
    "                   \n",
    "except IndexError:\n",
    "    pass"
   ]
  },
  {
   "cell_type": "code",
   "execution_count": 18,
   "metadata": {},
   "outputs": [
    {
     "data": {
      "text/html": [
       "<div>\n",
       "<style scoped>\n",
       "    .dataframe tbody tr th:only-of-type {\n",
       "        vertical-align: middle;\n",
       "    }\n",
       "\n",
       "    .dataframe tbody tr th {\n",
       "        vertical-align: top;\n",
       "    }\n",
       "\n",
       "    .dataframe thead th {\n",
       "        text-align: right;\n",
       "    }\n",
       "</style>\n",
       "<table border=\"1\" class=\"dataframe\">\n",
       "  <thead>\n",
       "    <tr style=\"text-align: right;\">\n",
       "      <th>Dataset</th>\n",
       "      <th>COU</th>\n",
       "      <th>Country</th>\n",
       "      <th>Avg. Work Hours (Annual)</th>\n",
       "      <th>Avg. Wages (Annual)</th>\n",
       "      <th>Mortality Causes</th>\n",
       "    </tr>\n",
       "  </thead>\n",
       "  <tbody>\n",
       "    <tr>\n",
       "      <td>30</td>\n",
       "      <td>PRT</td>\n",
       "      <td>Portugal</td>\n",
       "      <td>1714.0</td>\n",
       "      <td>25360.07583</td>\n",
       "      <td>215827.8</td>\n",
       "    </tr>\n",
       "    <tr>\n",
       "      <td>31</td>\n",
       "      <td>SVK</td>\n",
       "      <td>Slovak Republic</td>\n",
       "      <td>1760.0</td>\n",
       "      <td>22510.86712</td>\n",
       "      <td>108798.6</td>\n",
       "    </tr>\n",
       "    <tr>\n",
       "      <td>32</td>\n",
       "      <td>SVN</td>\n",
       "      <td>Slovenia</td>\n",
       "      <td>1681.9</td>\n",
       "      <td>34282.48437</td>\n",
       "      <td>42895.9</td>\n",
       "    </tr>\n",
       "    <tr>\n",
       "      <td>33</td>\n",
       "      <td>SWE</td>\n",
       "      <td>Sweden</td>\n",
       "      <td>1470.0</td>\n",
       "      <td>42444.08578</td>\n",
       "      <td>183045.0</td>\n",
       "    </tr>\n",
       "    <tr>\n",
       "      <td>34</td>\n",
       "      <td>USA</td>\n",
       "      <td>United States</td>\n",
       "      <td>1784.0</td>\n",
       "      <td>60617.97202</td>\n",
       "      <td>5257849.6</td>\n",
       "    </tr>\n",
       "  </tbody>\n",
       "</table>\n",
       "</div>"
      ],
      "text/plain": [
       "Dataset  COU          Country  Avg. Work Hours (Annual)  Avg. Wages (Annual)  \\\n",
       "30       PRT         Portugal                    1714.0          25360.07583   \n",
       "31       SVK  Slovak Republic                    1760.0          22510.86712   \n",
       "32       SVN         Slovenia                    1681.9          34282.48437   \n",
       "33       SWE           Sweden                    1470.0          42444.08578   \n",
       "34       USA    United States                    1784.0          60617.97202   \n",
       "\n",
       "Dataset  Mortality Causes  \n",
       "30               215827.8  \n",
       "31               108798.6  \n",
       "32                42895.9  \n",
       "33               183045.0  \n",
       "34              5257849.6  "
      ]
     },
     "execution_count": 18,
     "metadata": {},
     "output_type": "execute_result"
    }
   ],
   "source": [
    "oecd_ml_df[4].tail()"
   ]
  },
  {
   "cell_type": "markdown",
   "metadata": {},
   "source": [
    "### <font color = 'green'> World Bank Data </font>"
   ]
  },
  {
   "cell_type": "markdown",
   "metadata": {},
   "source": [
    "#### Importing Data"
   ]
  },
  {
   "cell_type": "code",
   "execution_count": null,
   "metadata": {},
   "outputs": [],
   "source": [
    "#to read csv of data\n",
    "df= pd.read_csv('../../../WDIData.csv')\n",
    "\n",
    "#to read csv of country names\n",
    "df_country_names= pd.read_csv('../data/WDI_Country_Code_and_Names.csv',encoding = \"ISO-8859-1\")\n",
    "\n",
    "\n",
    "#to read csv of indicators\n",
    "df_list_indicators = pd.read_csv('../data/WDI_list_of_reviewed_indicators.csv')"
   ]
  },
  {
   "cell_type": "markdown",
   "metadata": {},
   "source": [
    "#### Data Cleaning"
   ]
  },
  {
   "cell_type": "code",
   "execution_count": null,
   "metadata": {},
   "outputs": [],
   "source": [
    "#to grab the headers of the dataset\n",
    "df_headers=list(df.columns.values)\n",
    "\n",
    "#only pull the headers that are years\n",
    "df_years = df_headers[-59:]\n",
    "\n",
    "#only select previous years before 2010\n",
    "df_years_drop = df_years[0:50]\n",
    "#to make column '2018' a list\n",
    "df_years_drop_2018 = list([df_years[-1]])\n",
    "\n",
    "# to combine lists of years into 1 drop line\n",
    "df_drop = df_years_drop + df_years_drop_2018\n",
    "\n",
    "#to drop the years and create a summarized df\n",
    "df_columns_removed = df.drop(df_drop,axis=1)\n",
    "df_columns_removed.head()"
   ]
  },
  {
   "cell_type": "markdown",
   "metadata": {},
   "source": [
    "Assigning Country Code"
   ]
  },
  {
   "cell_type": "code",
   "execution_count": null,
   "metadata": {},
   "outputs": [],
   "source": [
    "#to preview df_country_names\n",
    "df_country_names.head()\n",
    "\n",
    "#make a list of country short name\n",
    "country_short_names = list(df_country_names['Short Name'])\n",
    "\n",
    "#filter df by short names list\n",
    "df_filter_cols_nd_cols_rem = df_columns_removed.loc[df_columns_removed['Country Name'].isin(country_short_names)]"
   ]
  },
  {
   "cell_type": "code",
   "execution_count": null,
   "metadata": {},
   "outputs": [],
   "source": [
    "df_filter_cols_nd_cols_rem.head()"
   ]
  },
  {
   "cell_type": "markdown",
   "metadata": {},
   "source": [
    "Filter indicators"
   ]
  },
  {
   "cell_type": "code",
   "execution_count": null,
   "metadata": {},
   "outputs": [],
   "source": [
    "df_list_indicators.head()"
   ]
  },
  {
   "cell_type": "code",
   "execution_count": null,
   "metadata": {},
   "outputs": [],
   "source": [
    "indicators =  list(df_list_indicators['Indicator Name'])\n",
    "print(indicators)\n",
    "\n",
    "#filter by indicators\n",
    "df_countries_indiciator = df_filter_cols_nd_cols_rem.loc[df_filter_cols_nd_cols_rem['Indicator Name'].isin(indicators)]\n",
    "\n",
    "#remove unnessecary columns\n",
    "df_wdi = df_countries_indiciator.drop(columns='Indicator Code')"
   ]
  },
  {
   "cell_type": "markdown",
   "metadata": {},
   "source": [
    "#### Reshaping Data"
   ]
  },
  {
   "cell_type": "code",
   "execution_count": null,
   "metadata": {},
   "outputs": [],
   "source": [
    "df_wdi.head()"
   ]
  },
  {
   "cell_type": "code",
   "execution_count": null,
   "metadata": {},
   "outputs": [],
   "source": [
    "years = list(df_wdi.iloc[:,3:].columns)\n",
    "years"
   ]
  },
  {
   "cell_type": "code",
   "execution_count": null,
   "metadata": {},
   "outputs": [],
   "source": [
    "i = 0\n",
    "world_bank_indicators = []\n",
    "\n",
    "\n",
    "while i < len(years):\n",
    "    \n",
    "    # to create a df of series\n",
    "    wdi_data = df_wdi[['Country Code','Country Name', 'Indicator Name', years[i]]]\n",
    "    wdi_data = wdi_data.rename(columns={'Country Code':'COU','Country Name':'Country'})\n",
    "    \n",
    "    \n",
    "    # to reshape the data\n",
    "    wdi = pd.pivot_table(wdi_data, values=years[i], index=['COU','Country'], columns=['Indicator Name'], aggfunc= np.sum)\n",
    "    wdi.reset_index()\n",
    "    \n",
    "    # data cleaning\n",
    "    wdi_df = wdi.dropna(axis=0, how='all').reset_index()\n",
    "    \n",
    "    #append a country code\n",
    "    \n",
    "    \n",
    "    # append to list\n",
    "    world_bank_indicators.append(wdi_df)\n",
    "    \n",
    "    # to create csv\n",
    "    world_bank_indicators[i].to_csv(f'../../../WDI_Data_Happiness_Table_{years[i]}.csv', sep=',' , encoding= 'utf-8', index=False)\n",
    "    \n",
    "    print(f\"Complete Dataframe for year: {years[i]}\")\n",
    "\n",
    "    i += 1"
   ]
  },
  {
   "cell_type": "code",
   "execution_count": null,
   "metadata": {},
   "outputs": [],
   "source": [
    "world_bank_indicators[0].head()"
   ]
  },
  {
   "cell_type": "markdown",
   "metadata": {},
   "source": [
    "### <font color='red'> To Combine both datasets </font>"
   ]
  },
  {
   "cell_type": "code",
   "execution_count": null,
   "metadata": {},
   "outputs": [],
   "source": [
    "print(len(world_bank_indicators))\n",
    "print(len(oecd_ml_df))\n",
    "\n",
    "## Both datasets are the same length, thus we can merge them to each other "
   ]
  },
  {
   "cell_type": "markdown",
   "metadata": {},
   "source": [
    "OECD data has less rows, thus we will perform an inner merge between the World Bank Data and the OECD data."
   ]
  },
  {
   "cell_type": "code",
   "execution_count": null,
   "metadata": {},
   "outputs": [],
   "source": [
    "i = 0 \n",
    "\n",
    "ml_datasets = []\n",
    "\n",
    "while i < len(oecd_ml_df):\n",
    "    \n",
    "    # to merge 3 pivot tables per dataset column\n",
    "    ml_df = pd.merge(oecd_ml_df[i], world_bank_indicators[i], on=['COU','Country'], how='inner')\n",
    "    ml_df['Year'] = years[i]\n",
    "    ml_datasets.append(ml_df)\n",
    "    \n",
    "    # to create csv\n",
    "    ml_datasets[i].to_csv(f'../resources/Machine_Learning_Dataset_{years[i]}.csv', sep=',' , encoding= 'utf-8', index=False)\n",
    "    \n",
    "    print(f'Completed dataset {i} of 7')\n",
    "    \n",
    "    i +=1\n",
    "    "
   ]
  },
  {
   "cell_type": "code",
   "execution_count": null,
   "metadata": {},
   "outputs": [],
   "source": [
    "ml_datasets[0].head()"
   ]
  },
  {
   "cell_type": "markdown",
   "metadata": {},
   "source": [
    "### <font color='magenta'> UN Happiness Report </font>"
   ]
  },
  {
   "cell_type": "code",
   "execution_count": null,
   "metadata": {},
   "outputs": [],
   "source": [
    "#to read csv un happiness data names\n",
    "un_happiness_report = pd.read_csv('../data/world_happiness_report_2019_original_file.csv',encoding = \"ISO-8859-1\")"
   ]
  },
  {
   "cell_type": "code",
   "execution_count": null,
   "metadata": {},
   "outputs": [],
   "source": [
    "# years is from earlier in the report\n",
    "years"
   ]
  },
  {
   "cell_type": "code",
   "execution_count": null,
   "metadata": {},
   "outputs": [],
   "source": [
    "un_happiness_report.head()"
   ]
  },
  {
   "cell_type": "code",
   "execution_count": null,
   "metadata": {},
   "outputs": [],
   "source": [
    "# to filter by year to fit other datasets 2010 to 2017\n",
    "un_happiness_report = un_happiness_report.loc[un_happiness_report['Year'] == 2010]\n",
    "happiness_merge_ready = un_happiness_report.drop(columns=['Year'])\n",
    "merge_ready = happiness_merge_ready.rename(columns={'Country name':'Country'})\n",
    "merge_ready.head()"
   ]
  },
  {
   "cell_type": "code",
   "execution_count": null,
   "metadata": {},
   "outputs": [],
   "source": [
    "years_to_review = [*range(2010,2018)]\n",
    "years_to_review"
   ]
  },
  {
   "cell_type": "code",
   "execution_count": null,
   "metadata": {},
   "outputs": [],
   "source": [
    "i = 0\n",
    "\n",
    "happiness_datasets = []\n",
    "\n",
    "while i < len(years):\n",
    "    \n",
    "    # to filter by year to fit other datasets 2010 to 2017\n",
    "    un_happiness_report = un_happiness_report.loc[un_happiness_report['Year'] == years_to_review[i]]\n",
    "    happiness_merge_ready = un_happiness_report.drop(columns=['Year'])\n",
    "    merge_ready = happiness_merge_ready.rename(columns={'Country name':'Country'})\n",
    "    \n",
    "    \n",
    "    # to merge 3 pivot tables per dataset column\n",
    "    life_ml_df = pd.merge(ml_datasets[i], merge_ready, on=['COU','Country'], how='inner')\n",
    "    \n",
    "    happiness_datasets.append(life_ml_df)\n",
    "    \n",
    "    # to create csv\n",
    "    happiness_datasets[i].to_csv(f'../resources/Machine_Learning_Dataset_{years[i]}.csv', sep=',' , encoding= 'utf-8', index=False)\n",
    "    \n",
    "    \n",
    "    print(f\"Merged UN Year {years[i]} with OECD & WDI Data\")\n",
    "    i+=1\n",
    "    "
   ]
  },
  {
   "cell_type": "code",
   "execution_count": null,
   "metadata": {},
   "outputs": [],
   "source": [
    "happiness_datasets[0]"
   ]
  },
  {
   "cell_type": "code",
   "execution_count": null,
   "metadata": {},
   "outputs": [],
   "source": []
  }
 ],
 "metadata": {
  "kernelspec": {
   "display_name": "Python [conda env:pythondata] *",
   "language": "python",
   "name": "conda-env-pythondata-py"
  },
  "language_info": {
   "codemirror_mode": {
    "name": "ipython",
    "version": 3
   },
   "file_extension": ".py",
   "mimetype": "text/x-python",
   "name": "python",
   "nbconvert_exporter": "python",
   "pygments_lexer": "ipython3",
   "version": "3.7.4"
  }
 },
 "nbformat": 4,
 "nbformat_minor": 2
}
