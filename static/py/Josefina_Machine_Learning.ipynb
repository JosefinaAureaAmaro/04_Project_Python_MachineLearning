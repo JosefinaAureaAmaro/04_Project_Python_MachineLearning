{
 "cells": [
  {
   "cell_type": "code",
   "execution_count": 1,
   "metadata": {},
   "outputs": [
    {
     "data": {
      "text/html": [
       "        <script type=\"text/javascript\">\n",
       "        window.PlotlyConfig = {MathJaxConfig: 'local'};\n",
       "        if (window.MathJax) {MathJax.Hub.Config({SVG: {font: \"STIX-Web\"}});}\n",
       "        if (typeof require !== 'undefined') {\n",
       "        require.undef(\"plotly\");\n",
       "        requirejs.config({\n",
       "            paths: {\n",
       "                'plotly': ['https://cdn.plot.ly/plotly-latest.min']\n",
       "            }\n",
       "        });\n",
       "        require(['plotly'], function(Plotly) {\n",
       "            window._Plotly = Plotly;\n",
       "        });\n",
       "        }\n",
       "        </script>\n",
       "        "
      ]
     },
     "metadata": {},
     "output_type": "display_data"
    }
   ],
   "source": [
    "## Dependancies ##\n",
    "\n",
    "# Data \n",
    "import numpy as np\n",
    "import pandas as pd\n",
    "\n",
    "# Create Data\n",
    "from sklearn.datasets import make_blobs\n",
    "\n",
    "\n",
    "# Charting\n",
    "%matplotlib inline\n",
    "import matplotlib.pyplot as plt\n",
    "plt.style.use('ggplot')\n",
    "import graphviz \n",
    "import pydotplus\n",
    "\n",
    "\n",
    "import plotly as py\n",
    "import plotly.graph_objs as go\n",
    "py.offline.init_notebook_mode(connected=True)\n",
    "\n",
    "import seaborn as sb\n",
    "\n",
    "# Data Preprocessing\n",
    "from sklearn.preprocessing import StandardScaler\n",
    "\n",
    "# Linear Regression\n",
    "from sklearn.model_selection import train_test_split\n",
    "from sklearn.datasets import make_regression\n",
    "from sklearn.linear_model import LinearRegression\n",
    "from sklearn.metrics import mean_squared_error, r2_score\n",
    "\n",
    "# Math\n",
    "from statistics import mean\n",
    "\n",
    "# Multi Linear Regresssion\n",
    "from mpl_toolkits.mplot3d import Axes3D\n",
    "\n",
    "# Lasso Model\n",
    "from sklearn.linear_model import Lasso\n",
    "\n",
    "# Ridge & Elastic Model\n",
    "# Note: Use an alpha of .01 when creating the model\n",
    "from sklearn.linear_model import Ridge\n",
    "from sklearn.linear_model import ElasticNet\n",
    "\n",
    "# Decision Trees\n",
    "from sklearn import tree\n",
    "from sklearn.ensemble import RandomForestClassifier\n",
    "## dataset\n",
    "from sklearn.datasets import load_iris\n",
    "\n",
    "# warnings\n",
    "import warnings\n",
    "warnings.simplefilter('ignore')\n",
    "\n"
   ]
  },
  {
   "cell_type": "code",
   "execution_count": 2,
   "metadata": {},
   "outputs": [],
   "source": [
    "# to assign figure size for Matplotlib charts\n",
    "fig_size = plt.rcParams[\"figure.figsize\"]\n",
    "fig_size[0] = 20\n",
    "fig_size[1] = 12\n",
    "plt.rcParams[\"figure.figsize\"] = fig_size"
   ]
  },
  {
   "cell_type": "code",
   "execution_count": 3,
   "metadata": {},
   "outputs": [],
   "source": [
    "# read csv data from Data_Cleaning_&_Consolidation_Annual_Reporting.ipynb\n",
    "happiness_data = pd.read_csv('../resources/Complete_Happiness_Data.csv')"
   ]
  },
  {
   "cell_type": "code",
   "execution_count": 4,
   "metadata": {},
   "outputs": [
    {
     "data": {
      "text/html": [
       "<div>\n",
       "<style scoped>\n",
       "    .dataframe tbody tr th:only-of-type {\n",
       "        vertical-align: middle;\n",
       "    }\n",
       "\n",
       "    .dataframe tbody tr th {\n",
       "        vertical-align: top;\n",
       "    }\n",
       "\n",
       "    .dataframe thead th {\n",
       "        text-align: right;\n",
       "    }\n",
       "</style>\n",
       "<table border=\"1\" class=\"dataframe\">\n",
       "  <thead>\n",
       "    <tr style=\"text-align: right;\">\n",
       "      <th></th>\n",
       "      <th>COU</th>\n",
       "      <th>Country</th>\n",
       "      <th>Year</th>\n",
       "      <th>Avg. Work Hours (Annual)</th>\n",
       "      <th>Avg. Wages (Annual)</th>\n",
       "      <th>GDP (constant 2010 US$)</th>\n",
       "      <th>Population density (people per sq. km of land area)</th>\n",
       "      <th>Life Ladder</th>\n",
       "      <th>Log GDP per capita</th>\n",
       "      <th>Social support</th>\n",
       "      <th>...</th>\n",
       "      <th>Generosity</th>\n",
       "      <th>Perceptions of corruption</th>\n",
       "      <th>Positive affect</th>\n",
       "      <th>Negative affect</th>\n",
       "      <th>Confidence in national government</th>\n",
       "      <th>Democratic Quality</th>\n",
       "      <th>Delivery Quality</th>\n",
       "      <th>Standard deviation of ladder by country-year</th>\n",
       "      <th>Standard deviation/Mean of ladder by country-year</th>\n",
       "      <th>gini of household income reported in Gallup, by wp5-year</th>\n",
       "    </tr>\n",
       "  </thead>\n",
       "  <tbody>\n",
       "    <tr>\n",
       "      <td>226</td>\n",
       "      <td>LVA</td>\n",
       "      <td>Latvia</td>\n",
       "      <td>2012</td>\n",
       "      <td>1738.0</td>\n",
       "      <td>18272.87632</td>\n",
       "      <td>2.629302e+10</td>\n",
       "      <td>32.716613</td>\n",
       "      <td>5.125025</td>\n",
       "      <td>9.944049</td>\n",
       "      <td>0.851195</td>\n",
       "      <td>...</td>\n",
       "      <td>-0.040608</td>\n",
       "      <td>0.894979</td>\n",
       "      <td>0.560013</td>\n",
       "      <td>0.232225</td>\n",
       "      <td>0.191220</td>\n",
       "      <td>0.614571</td>\n",
       "      <td>0.721495</td>\n",
       "      <td>1.890645</td>\n",
       "      <td>0.368905</td>\n",
       "      <td>0.321799</td>\n",
       "    </tr>\n",
       "    <tr>\n",
       "      <td>227</td>\n",
       "      <td>LVA</td>\n",
       "      <td>Latvia</td>\n",
       "      <td>2013</td>\n",
       "      <td>1732.0</td>\n",
       "      <td>19151.96466</td>\n",
       "      <td>2.693190e+10</td>\n",
       "      <td>32.362872</td>\n",
       "      <td>5.069770</td>\n",
       "      <td>9.978767</td>\n",
       "      <td>0.834023</td>\n",
       "      <td>...</td>\n",
       "      <td>-0.075946</td>\n",
       "      <td>0.836554</td>\n",
       "      <td>0.642102</td>\n",
       "      <td>0.227449</td>\n",
       "      <td>0.233800</td>\n",
       "      <td>0.682029</td>\n",
       "      <td>0.757290</td>\n",
       "      <td>1.719731</td>\n",
       "      <td>0.339213</td>\n",
       "      <td>0.305940</td>\n",
       "    </tr>\n",
       "    <tr>\n",
       "      <td>228</td>\n",
       "      <td>LVA</td>\n",
       "      <td>Latvia</td>\n",
       "      <td>2014</td>\n",
       "      <td>1741.0</td>\n",
       "      <td>20429.45208</td>\n",
       "      <td>2.743236e+10</td>\n",
       "      <td>32.064683</td>\n",
       "      <td>5.729115</td>\n",
       "      <td>10.006597</td>\n",
       "      <td>0.881256</td>\n",
       "      <td>...</td>\n",
       "      <td>-0.046076</td>\n",
       "      <td>0.803688</td>\n",
       "      <td>0.652273</td>\n",
       "      <td>0.225979</td>\n",
       "      <td>0.229045</td>\n",
       "      <td>0.668352</td>\n",
       "      <td>0.854488</td>\n",
       "      <td>1.962900</td>\n",
       "      <td>0.342618</td>\n",
       "      <td>0.406468</td>\n",
       "    </tr>\n",
       "    <tr>\n",
       "      <td>229</td>\n",
       "      <td>LVA</td>\n",
       "      <td>Latvia</td>\n",
       "      <td>2016</td>\n",
       "      <td>1709.0</td>\n",
       "      <td>23591.68628</td>\n",
       "      <td>2.883070e+10</td>\n",
       "      <td>31.513943</td>\n",
       "      <td>5.940446</td>\n",
       "      <td>10.075054</td>\n",
       "      <td>0.917074</td>\n",
       "      <td>...</td>\n",
       "      <td>-0.159757</td>\n",
       "      <td>0.867640</td>\n",
       "      <td>0.653751</td>\n",
       "      <td>0.231384</td>\n",
       "      <td>0.315261</td>\n",
       "      <td>0.660759</td>\n",
       "      <td>0.869054</td>\n",
       "      <td>1.705120</td>\n",
       "      <td>0.287036</td>\n",
       "      <td>0.384025</td>\n",
       "    </tr>\n",
       "    <tr>\n",
       "      <td>230</td>\n",
       "      <td>LVA</td>\n",
       "      <td>Latvia</td>\n",
       "      <td>2017</td>\n",
       "      <td>1695.0</td>\n",
       "      <td>24633.97485</td>\n",
       "      <td>3.016743e+10</td>\n",
       "      <td>31.235896</td>\n",
       "      <td>5.977818</td>\n",
       "      <td>10.129182</td>\n",
       "      <td>0.895099</td>\n",
       "      <td>...</td>\n",
       "      <td>-0.158590</td>\n",
       "      <td>0.798378</td>\n",
       "      <td>0.623313</td>\n",
       "      <td>0.231753</td>\n",
       "      <td>0.264001</td>\n",
       "      <td>0.628388</td>\n",
       "      <td>0.881661</td>\n",
       "      <td>1.814803</td>\n",
       "      <td>0.303590</td>\n",
       "      <td>0.362185</td>\n",
       "    </tr>\n",
       "  </tbody>\n",
       "</table>\n",
       "<p>5 rows × 22 columns</p>\n",
       "</div>"
      ],
      "text/plain": [
       "     COU Country  Year  Avg. Work Hours (Annual)  Avg. Wages (Annual)  \\\n",
       "226  LVA  Latvia  2012                    1738.0          18272.87632   \n",
       "227  LVA  Latvia  2013                    1732.0          19151.96466   \n",
       "228  LVA  Latvia  2014                    1741.0          20429.45208   \n",
       "229  LVA  Latvia  2016                    1709.0          23591.68628   \n",
       "230  LVA  Latvia  2017                    1695.0          24633.97485   \n",
       "\n",
       "     GDP (constant 2010 US$)  \\\n",
       "226             2.629302e+10   \n",
       "227             2.693190e+10   \n",
       "228             2.743236e+10   \n",
       "229             2.883070e+10   \n",
       "230             3.016743e+10   \n",
       "\n",
       "     Population density (people per sq. km of land area)  Life Ladder  \\\n",
       "226                                          32.716613       5.125025   \n",
       "227                                          32.362872       5.069770   \n",
       "228                                          32.064683       5.729115   \n",
       "229                                          31.513943       5.940446   \n",
       "230                                          31.235896       5.977818   \n",
       "\n",
       "     Log GDP per capita  Social support  ...  Generosity  \\\n",
       "226            9.944049        0.851195  ...   -0.040608   \n",
       "227            9.978767        0.834023  ...   -0.075946   \n",
       "228           10.006597        0.881256  ...   -0.046076   \n",
       "229           10.075054        0.917074  ...   -0.159757   \n",
       "230           10.129182        0.895099  ...   -0.158590   \n",
       "\n",
       "     Perceptions of corruption  Positive affect  Negative affect  \\\n",
       "226                   0.894979         0.560013         0.232225   \n",
       "227                   0.836554         0.642102         0.227449   \n",
       "228                   0.803688         0.652273         0.225979   \n",
       "229                   0.867640         0.653751         0.231384   \n",
       "230                   0.798378         0.623313         0.231753   \n",
       "\n",
       "     Confidence in national government  Democratic Quality  Delivery Quality  \\\n",
       "226                           0.191220            0.614571          0.721495   \n",
       "227                           0.233800            0.682029          0.757290   \n",
       "228                           0.229045            0.668352          0.854488   \n",
       "229                           0.315261            0.660759          0.869054   \n",
       "230                           0.264001            0.628388          0.881661   \n",
       "\n",
       "     Standard deviation of ladder by country-year  \\\n",
       "226                                      1.890645   \n",
       "227                                      1.719731   \n",
       "228                                      1.962900   \n",
       "229                                      1.705120   \n",
       "230                                      1.814803   \n",
       "\n",
       "     Standard deviation/Mean of ladder by country-year  \\\n",
       "226                                           0.368905   \n",
       "227                                           0.339213   \n",
       "228                                           0.342618   \n",
       "229                                           0.287036   \n",
       "230                                           0.303590   \n",
       "\n",
       "     gini of household income reported in Gallup, by wp5-year  \n",
       "226                                           0.321799         \n",
       "227                                           0.305940         \n",
       "228                                           0.406468         \n",
       "229                                           0.384025         \n",
       "230                                           0.362185         \n",
       "\n",
       "[5 rows x 22 columns]"
      ]
     },
     "execution_count": 4,
     "metadata": {},
     "output_type": "execute_result"
    }
   ],
   "source": [
    "happiness_data.tail()"
   ]
  },
  {
   "cell_type": "code",
   "execution_count": 5,
   "metadata": {},
   "outputs": [
    {
     "data": {
      "text/plain": [
       "COU                                                          object\n",
       "Country                                                      object\n",
       "Year                                                          int64\n",
       "Avg. Work Hours (Annual)                                    float64\n",
       "Avg. Wages (Annual)                                         float64\n",
       "GDP (constant 2010 US$)                                     float64\n",
       "Population density (people per sq. km of land area)         float64\n",
       "Life Ladder                                                 float64\n",
       "Log GDP per capita                                          float64\n",
       "Social support                                              float64\n",
       "Healthy life expectancy at birth                            float64\n",
       "Freedom to make life choices                                float64\n",
       "Generosity                                                  float64\n",
       "Perceptions of corruption                                   float64\n",
       "Positive affect                                             float64\n",
       "Negative affect                                             float64\n",
       "Confidence in national government                           float64\n",
       "Democratic Quality                                          float64\n",
       "Delivery Quality                                            float64\n",
       "Standard deviation of ladder by country-year                float64\n",
       "Standard deviation/Mean of ladder by country-year           float64\n",
       "gini of household income reported in Gallup, by wp5-year    float64\n",
       "dtype: object"
      ]
     },
     "execution_count": 5,
     "metadata": {},
     "output_type": "execute_result"
    }
   ],
   "source": [
    "#check types\n",
    "happiness_data.dtypes"
   ]
  },
  {
   "cell_type": "code",
   "execution_count": 6,
   "metadata": {},
   "outputs": [
    {
     "data": {
      "text/plain": [
       "COU                                                         231\n",
       "Country                                                     231\n",
       "Year                                                        231\n",
       "Avg. Work Hours (Annual)                                    231\n",
       "Avg. Wages (Annual)                                         231\n",
       "GDP (constant 2010 US$)                                     231\n",
       "Population density (people per sq. km of land area)         231\n",
       "Life Ladder                                                 231\n",
       "Log GDP per capita                                          231\n",
       "Social support                                              231\n",
       "Healthy life expectancy at birth                            231\n",
       "Freedom to make life choices                                231\n",
       "Generosity                                                  231\n",
       "Perceptions of corruption                                   231\n",
       "Positive affect                                             231\n",
       "Negative affect                                             231\n",
       "Confidence in national government                           231\n",
       "Democratic Quality                                          231\n",
       "Delivery Quality                                            231\n",
       "Standard deviation of ladder by country-year                231\n",
       "Standard deviation/Mean of ladder by country-year           231\n",
       "gini of household income reported in Gallup, by wp5-year    231\n",
       "dtype: int64"
      ]
     },
     "execution_count": 6,
     "metadata": {},
     "output_type": "execute_result"
    }
   ],
   "source": [
    "# check for NaN values\n",
    "happiness_data.count()"
   ]
  },
  {
   "cell_type": "code",
   "execution_count": 7,
   "metadata": {},
   "outputs": [],
   "source": [
    "#establish observed year list\n",
    "years = list(happiness_data['Year'].unique())"
   ]
  },
  {
   "cell_type": "code",
   "execution_count": 8,
   "metadata": {},
   "outputs": [],
   "source": [
    "happiness_data_1 = happiness_data.iloc[:,4:]\n",
    "depedent_var = list(happiness_data_1.columns)"
   ]
  },
  {
   "cell_type": "code",
   "execution_count": 9,
   "metadata": {},
   "outputs": [
    {
     "data": {
      "text/plain": [
       "[3]"
      ]
     },
     "execution_count": 9,
     "metadata": {},
     "output_type": "execute_result"
    }
   ],
   "source": [
    "life_ladder = [depedent_var.index('Life Ladder')]\n",
    "life_ladder"
   ]
  },
  {
   "cell_type": "code",
   "execution_count": 10,
   "metadata": {},
   "outputs": [
    {
     "data": {
      "text/plain": [
       "['Avg. Wages (Annual)',\n",
       " 'GDP (constant 2010 US$)',\n",
       " 'Population density (people per sq. km of land area)',\n",
       " 'Life Ladder',\n",
       " 'Log GDP per capita',\n",
       " 'Social support',\n",
       " 'Healthy life expectancy at birth',\n",
       " 'Freedom to make life choices',\n",
       " 'Generosity',\n",
       " 'Perceptions of corruption',\n",
       " 'Positive affect',\n",
       " 'Negative affect',\n",
       " 'Confidence in national government',\n",
       " 'Democratic Quality',\n",
       " 'Delivery Quality',\n",
       " 'Standard deviation of ladder by country-year',\n",
       " 'Standard deviation/Mean of ladder by country-year',\n",
       " 'gini of household income reported in Gallup, by wp5-year']"
      ]
     },
     "execution_count": 10,
     "metadata": {},
     "output_type": "execute_result"
    }
   ],
   "source": [
    "columns = list(happiness_data_1.columns)\n",
    "columns"
   ]
  },
  {
   "cell_type": "code",
   "execution_count": 11,
   "metadata": {},
   "outputs": [],
   "source": [
    "items_in_list = len(happiness_data_1.columns)\n",
    "\n",
    "index_of_columns = [*range(0,items_in_list,1)]"
   ]
  },
  {
   "cell_type": "code",
   "execution_count": 12,
   "metadata": {},
   "outputs": [],
   "source": [
    "index_of_columns.remove(3)"
   ]
  },
  {
   "cell_type": "code",
   "execution_count": 13,
   "metadata": {},
   "outputs": [],
   "source": [
    "column_arrangement = life_ladder + index_of_columns"
   ]
  },
  {
   "cell_type": "code",
   "execution_count": 14,
   "metadata": {},
   "outputs": [
    {
     "data": {
      "text/plain": [
       "[3, 0, 1, 2, 4, 5, 6, 7, 8, 9, 10, 11, 12, 13, 14, 15, 16, 17]"
      ]
     },
     "execution_count": 14,
     "metadata": {},
     "output_type": "execute_result"
    }
   ],
   "source": [
    "column_arrangement"
   ]
  },
  {
   "cell_type": "code",
   "execution_count": 15,
   "metadata": {},
   "outputs": [
    {
     "data": {
      "text/plain": [
       "['Life Ladder',\n",
       " 'Avg. Wages (Annual)',\n",
       " 'GDP (constant 2010 US$)',\n",
       " 'Population density (people per sq. km of land area)',\n",
       " 'Log GDP per capita',\n",
       " 'Social support',\n",
       " 'Healthy life expectancy at birth',\n",
       " 'Freedom to make life choices',\n",
       " 'Generosity',\n",
       " 'Perceptions of corruption',\n",
       " 'Positive affect',\n",
       " 'Negative affect',\n",
       " 'Confidence in national government',\n",
       " 'Democratic Quality',\n",
       " 'Delivery Quality',\n",
       " 'Standard deviation of ladder by country-year',\n",
       " 'Standard deviation/Mean of ladder by country-year',\n",
       " 'gini of household income reported in Gallup, by wp5-year']"
      ]
     },
     "execution_count": 15,
     "metadata": {},
     "output_type": "execute_result"
    }
   ],
   "source": [
    "# to rearrange columns \n",
    "column_order  = [columns[i] for i in column_arrangement]\n",
    "column_order"
   ]
  },
  {
   "cell_type": "code",
   "execution_count": 16,
   "metadata": {},
   "outputs": [],
   "source": [
    "happiness_data_1 = happiness_data_1[column_order]"
   ]
  },
  {
   "cell_type": "markdown",
   "metadata": {},
   "source": [
    "### Data Analysis\n",
    "\n",
    "Objective: To review correlation between the Life Ladder & Dependent Variables in the dataset"
   ]
  },
  {
   "cell_type": "markdown",
   "metadata": {},
   "source": [
    "### Country Correlation Analysis"
   ]
  },
  {
   "cell_type": "code",
   "execution_count": 17,
   "metadata": {},
   "outputs": [
    {
     "data": {
      "text/plain": [
       "['Australia',\n",
       " 'Austria',\n",
       " 'Belgium',\n",
       " 'Canada',\n",
       " 'Czech Republic',\n",
       " 'Denmark',\n",
       " 'Finland',\n",
       " 'France',\n",
       " 'Germany',\n",
       " 'Greece',\n",
       " 'Hungary',\n",
       " 'Iceland',\n",
       " 'Ireland',\n",
       " 'Italy',\n",
       " 'Japan',\n",
       " 'Luxembourg',\n",
       " 'Mexico',\n",
       " 'Netherlands',\n",
       " 'New Zealand',\n",
       " 'Norway',\n",
       " 'Poland',\n",
       " 'Portugal',\n",
       " 'Spain',\n",
       " 'Sweden',\n",
       " 'Switzerland',\n",
       " 'United Kingdom',\n",
       " 'United States',\n",
       " 'Israel',\n",
       " 'Chile',\n",
       " 'Slovenia',\n",
       " 'Estonia',\n",
       " 'Lithuania',\n",
       " 'Latvia']"
      ]
     },
     "execution_count": 17,
     "metadata": {},
     "output_type": "execute_result"
    }
   ],
   "source": [
    "country_names = list(happiness_data[\"Country\"].unique())\n",
    "country_names"
   ]
  },
  {
   "cell_type": "code",
   "execution_count": 18,
   "metadata": {},
   "outputs": [
    {
     "data": {
      "text/plain": [
       "33"
      ]
     },
     "execution_count": 18,
     "metadata": {},
     "output_type": "execute_result"
    }
   ],
   "source": [
    "len(country_names)"
   ]
  },
  {
   "cell_type": "code",
   "execution_count": 19,
   "metadata": {},
   "outputs": [
    {
     "name": "stdout",
     "output_type": "stream",
     "text": [
      "Completed year Australia\n",
      "Completed year Austria\n",
      "Completed year Belgium\n",
      "Completed year Canada\n",
      "Completed year Czech Republic\n",
      "Completed year Denmark\n",
      "Completed year Finland\n",
      "Completed year France\n",
      "Completed year Germany\n",
      "Completed year Greece\n",
      "Completed year Hungary\n",
      "Completed year Iceland\n",
      "Completed year Ireland\n",
      "Completed year Italy\n",
      "Completed year Japan\n",
      "Completed year Luxembourg\n",
      "Completed year Mexico\n",
      "Completed year Netherlands\n",
      "Completed year New Zealand\n",
      "Completed year Norway\n",
      "Completed year Poland\n",
      "Completed year Portugal\n",
      "Completed year Spain\n",
      "Completed year Sweden\n",
      "Completed year Switzerland\n",
      "Completed year United Kingdom\n",
      "Completed year United States\n",
      "Completed year Israel\n",
      "Completed year Chile\n",
      "Completed year Slovenia\n",
      "Completed year Estonia\n",
      "Completed year Lithuania\n",
      "Completed year Latvia\n"
     ]
    }
   ],
   "source": [
    "country_results = []\n",
    "\n",
    "for country in country_names:\n",
    "    \n",
    "    # to make a dataframe per year\n",
    "    country_happiness_data = happiness_data.loc[happiness_data['Country'] == country].reset_index()\n",
    "    \n",
    "    country_data = country_happiness_data.iloc[:,4:]\n",
    "    \n",
    "    country_corr_matrix = country_data.corr(method ='pearson')\n",
    "    country_corr_matrix = country_corr_matrix[column_order]\n",
    "    country_corr_matrix = country_corr_matrix.drop(columns=['Standard deviation of ladder by country-year','Standard deviation/Mean of ladder by country-year'])\n",
    "    print(f\"Completed year {country}\")\n",
    "    \n",
    "\n",
    "    country_results.append(country_corr_matrix)"
   ]
  },
  {
   "cell_type": "markdown",
   "metadata": {},
   "source": [
    " Going to put the 'Life Ladder' data into a dictionary per country"
   ]
  },
  {
   "cell_type": "code",
   "execution_count": 20,
   "metadata": {},
   "outputs": [
    {
     "data": {
      "text/html": [
       "<div>\n",
       "<style scoped>\n",
       "    .dataframe tbody tr th:only-of-type {\n",
       "        vertical-align: middle;\n",
       "    }\n",
       "\n",
       "    .dataframe tbody tr th {\n",
       "        vertical-align: top;\n",
       "    }\n",
       "\n",
       "    .dataframe thead th {\n",
       "        text-align: right;\n",
       "    }\n",
       "</style>\n",
       "<table border=\"1\" class=\"dataframe\">\n",
       "  <thead>\n",
       "    <tr style=\"text-align: right;\">\n",
       "      <th></th>\n",
       "      <th>Life Ladder</th>\n",
       "      <th>Avg. Wages (Annual)</th>\n",
       "      <th>GDP (constant 2010 US$)</th>\n",
       "      <th>Population density (people per sq. km of land area)</th>\n",
       "      <th>Log GDP per capita</th>\n",
       "      <th>Social support</th>\n",
       "      <th>Healthy life expectancy at birth</th>\n",
       "      <th>Freedom to make life choices</th>\n",
       "      <th>Generosity</th>\n",
       "      <th>Perceptions of corruption</th>\n",
       "      <th>Positive affect</th>\n",
       "      <th>Negative affect</th>\n",
       "      <th>Confidence in national government</th>\n",
       "      <th>Democratic Quality</th>\n",
       "      <th>Delivery Quality</th>\n",
       "      <th>gini of household income reported in Gallup, by wp5-year</th>\n",
       "    </tr>\n",
       "  </thead>\n",
       "  <tbody>\n",
       "    <tr>\n",
       "      <td>Avg. Work Hours (Annual)</td>\n",
       "      <td>0.573199</td>\n",
       "      <td>-0.735416</td>\n",
       "      <td>-0.795017</td>\n",
       "      <td>-0.864139</td>\n",
       "      <td>-0.572492</td>\n",
       "      <td>0.410419</td>\n",
       "      <td>-0.868564</td>\n",
       "      <td>0.657674</td>\n",
       "      <td>0.249246</td>\n",
       "      <td>0.491501</td>\n",
       "      <td>0.738751</td>\n",
       "      <td>-0.857811</td>\n",
       "      <td>0.127151</td>\n",
       "      <td>0.379303</td>\n",
       "      <td>0.228542</td>\n",
       "      <td>0.565526</td>\n",
       "    </tr>\n",
       "    <tr>\n",
       "      <td>Avg. Wages (Annual)</td>\n",
       "      <td>-0.543786</td>\n",
       "      <td>1.000000</td>\n",
       "      <td>0.787219</td>\n",
       "      <td>0.910120</td>\n",
       "      <td>0.414597</td>\n",
       "      <td>-0.537686</td>\n",
       "      <td>0.872639</td>\n",
       "      <td>-0.775779</td>\n",
       "      <td>-0.508349</td>\n",
       "      <td>-0.798402</td>\n",
       "      <td>-0.763890</td>\n",
       "      <td>0.926506</td>\n",
       "      <td>0.376824</td>\n",
       "      <td>-0.841360</td>\n",
       "      <td>-0.217338</td>\n",
       "      <td>-0.673026</td>\n",
       "    </tr>\n",
       "    <tr>\n",
       "      <td>GDP (constant 2010 US$)</td>\n",
       "      <td>-0.304245</td>\n",
       "      <td>0.787219</td>\n",
       "      <td>1.000000</td>\n",
       "      <td>0.960098</td>\n",
       "      <td>0.879723</td>\n",
       "      <td>-0.298140</td>\n",
       "      <td>0.978521</td>\n",
       "      <td>-0.418787</td>\n",
       "      <td>-0.304038</td>\n",
       "      <td>-0.426622</td>\n",
       "      <td>-0.869123</td>\n",
       "      <td>0.763900</td>\n",
       "      <td>-0.151272</td>\n",
       "      <td>-0.634452</td>\n",
       "      <td>-0.687714</td>\n",
       "      <td>-0.737444</td>\n",
       "    </tr>\n",
       "    <tr>\n",
       "      <td>Population density (people per sq. km of land area)</td>\n",
       "      <td>-0.483555</td>\n",
       "      <td>0.910120</td>\n",
       "      <td>0.960098</td>\n",
       "      <td>1.000000</td>\n",
       "      <td>0.715631</td>\n",
       "      <td>-0.445331</td>\n",
       "      <td>0.994099</td>\n",
       "      <td>-0.621306</td>\n",
       "      <td>-0.395505</td>\n",
       "      <td>-0.631362</td>\n",
       "      <td>-0.906569</td>\n",
       "      <td>0.897475</td>\n",
       "      <td>0.047999</td>\n",
       "      <td>-0.735626</td>\n",
       "      <td>-0.495576</td>\n",
       "      <td>-0.726138</td>\n",
       "    </tr>\n",
       "    <tr>\n",
       "      <td>Life Ladder</td>\n",
       "      <td>1.000000</td>\n",
       "      <td>-0.543786</td>\n",
       "      <td>-0.304245</td>\n",
       "      <td>-0.483555</td>\n",
       "      <td>0.009904</td>\n",
       "      <td>0.750044</td>\n",
       "      <td>-0.422756</td>\n",
       "      <td>0.834279</td>\n",
       "      <td>0.697922</td>\n",
       "      <td>0.662874</td>\n",
       "      <td>0.419227</td>\n",
       "      <td>-0.661810</td>\n",
       "      <td>-0.129352</td>\n",
       "      <td>0.491941</td>\n",
       "      <td>-0.125525</td>\n",
       "      <td>0.415062</td>\n",
       "    </tr>\n",
       "  </tbody>\n",
       "</table>\n",
       "</div>"
      ],
      "text/plain": [
       "                                                    Life Ladder  \\\n",
       "Avg. Work Hours (Annual)                               0.573199   \n",
       "Avg. Wages (Annual)                                   -0.543786   \n",
       "GDP (constant 2010 US$)                               -0.304245   \n",
       "Population density (people per sq. km of land a...    -0.483555   \n",
       "Life Ladder                                            1.000000   \n",
       "\n",
       "                                                    Avg. Wages (Annual)  \\\n",
       "Avg. Work Hours (Annual)                                      -0.735416   \n",
       "Avg. Wages (Annual)                                            1.000000   \n",
       "GDP (constant 2010 US$)                                        0.787219   \n",
       "Population density (people per sq. km of land a...             0.910120   \n",
       "Life Ladder                                                   -0.543786   \n",
       "\n",
       "                                                    GDP (constant 2010 US$)  \\\n",
       "Avg. Work Hours (Annual)                                          -0.795017   \n",
       "Avg. Wages (Annual)                                                0.787219   \n",
       "GDP (constant 2010 US$)                                            1.000000   \n",
       "Population density (people per sq. km of land a...                 0.960098   \n",
       "Life Ladder                                                       -0.304245   \n",
       "\n",
       "                                                    Population density (people per sq. km of land area)  \\\n",
       "Avg. Work Hours (Annual)                                                                    -0.864139     \n",
       "Avg. Wages (Annual)                                                                          0.910120     \n",
       "GDP (constant 2010 US$)                                                                      0.960098     \n",
       "Population density (people per sq. km of land a...                                           1.000000     \n",
       "Life Ladder                                                                                 -0.483555     \n",
       "\n",
       "                                                    Log GDP per capita  \\\n",
       "Avg. Work Hours (Annual)                                     -0.572492   \n",
       "Avg. Wages (Annual)                                           0.414597   \n",
       "GDP (constant 2010 US$)                                       0.879723   \n",
       "Population density (people per sq. km of land a...            0.715631   \n",
       "Life Ladder                                                   0.009904   \n",
       "\n",
       "                                                    Social support  \\\n",
       "Avg. Work Hours (Annual)                                  0.410419   \n",
       "Avg. Wages (Annual)                                      -0.537686   \n",
       "GDP (constant 2010 US$)                                  -0.298140   \n",
       "Population density (people per sq. km of land a...       -0.445331   \n",
       "Life Ladder                                               0.750044   \n",
       "\n",
       "                                                    Healthy life expectancy at birth  \\\n",
       "Avg. Work Hours (Annual)                                                   -0.868564   \n",
       "Avg. Wages (Annual)                                                         0.872639   \n",
       "GDP (constant 2010 US$)                                                     0.978521   \n",
       "Population density (people per sq. km of land a...                          0.994099   \n",
       "Life Ladder                                                                -0.422756   \n",
       "\n",
       "                                                    Freedom to make life choices  \\\n",
       "Avg. Work Hours (Annual)                                                0.657674   \n",
       "Avg. Wages (Annual)                                                    -0.775779   \n",
       "GDP (constant 2010 US$)                                                -0.418787   \n",
       "Population density (people per sq. km of land a...                     -0.621306   \n",
       "Life Ladder                                                             0.834279   \n",
       "\n",
       "                                                    Generosity  \\\n",
       "Avg. Work Hours (Annual)                              0.249246   \n",
       "Avg. Wages (Annual)                                  -0.508349   \n",
       "GDP (constant 2010 US$)                              -0.304038   \n",
       "Population density (people per sq. km of land a...   -0.395505   \n",
       "Life Ladder                                           0.697922   \n",
       "\n",
       "                                                    Perceptions of corruption  \\\n",
       "Avg. Work Hours (Annual)                                             0.491501   \n",
       "Avg. Wages (Annual)                                                 -0.798402   \n",
       "GDP (constant 2010 US$)                                             -0.426622   \n",
       "Population density (people per sq. km of land a...                  -0.631362   \n",
       "Life Ladder                                                          0.662874   \n",
       "\n",
       "                                                    Positive affect  \\\n",
       "Avg. Work Hours (Annual)                                   0.738751   \n",
       "Avg. Wages (Annual)                                       -0.763890   \n",
       "GDP (constant 2010 US$)                                   -0.869123   \n",
       "Population density (people per sq. km of land a...        -0.906569   \n",
       "Life Ladder                                                0.419227   \n",
       "\n",
       "                                                    Negative affect  \\\n",
       "Avg. Work Hours (Annual)                                  -0.857811   \n",
       "Avg. Wages (Annual)                                        0.926506   \n",
       "GDP (constant 2010 US$)                                    0.763900   \n",
       "Population density (people per sq. km of land a...         0.897475   \n",
       "Life Ladder                                               -0.661810   \n",
       "\n",
       "                                                    Confidence in national government  \\\n",
       "Avg. Work Hours (Annual)                                                     0.127151   \n",
       "Avg. Wages (Annual)                                                          0.376824   \n",
       "GDP (constant 2010 US$)                                                     -0.151272   \n",
       "Population density (people per sq. km of land a...                           0.047999   \n",
       "Life Ladder                                                                 -0.129352   \n",
       "\n",
       "                                                    Democratic Quality  \\\n",
       "Avg. Work Hours (Annual)                                      0.379303   \n",
       "Avg. Wages (Annual)                                          -0.841360   \n",
       "GDP (constant 2010 US$)                                      -0.634452   \n",
       "Population density (people per sq. km of land a...           -0.735626   \n",
       "Life Ladder                                                   0.491941   \n",
       "\n",
       "                                                    Delivery Quality  \\\n",
       "Avg. Work Hours (Annual)                                    0.228542   \n",
       "Avg. Wages (Annual)                                        -0.217338   \n",
       "GDP (constant 2010 US$)                                    -0.687714   \n",
       "Population density (people per sq. km of land a...         -0.495576   \n",
       "Life Ladder                                                -0.125525   \n",
       "\n",
       "                                                    gini of household income reported in Gallup, by wp5-year  \n",
       "Avg. Work Hours (Annual)                                                                     0.565526         \n",
       "Avg. Wages (Annual)                                                                         -0.673026         \n",
       "GDP (constant 2010 US$)                                                                     -0.737444         \n",
       "Population density (people per sq. km of land a...                                          -0.726138         \n",
       "Life Ladder                                                                                  0.415062         "
      ]
     },
     "execution_count": 20,
     "metadata": {},
     "output_type": "execute_result"
    }
   ],
   "source": [
    "country_results[1].head()"
   ]
  },
  {
   "cell_type": "code",
   "execution_count": null,
   "metadata": {},
   "outputs": [],
   "source": [
    "country_corr_value_life_ladder"
   ]
  },
  {
   "cell_type": "code",
   "execution_count": 26,
   "metadata": {},
   "outputs": [
    {
     "name": "stdout",
     "output_type": "stream",
     "text": [
      "Completed updating dictionary with Australia's data\n",
      "Completed updating dictionary with Austria's data\n",
      "Completed updating dictionary with Belgium's data\n",
      "Completed updating dictionary with Canada's data\n",
      "Completed updating dictionary with Czech Republic's data\n",
      "Completed updating dictionary with Denmark's data\n",
      "Completed updating dictionary with Finland's data\n",
      "Completed updating dictionary with France's data\n",
      "Completed updating dictionary with Germany's data\n",
      "Completed updating dictionary with Greece's data\n",
      "Completed updating dictionary with Hungary's data\n",
      "Completed updating dictionary with Iceland's data\n",
      "Completed updating dictionary with Ireland's data\n",
      "Completed updating dictionary with Italy's data\n",
      "Completed updating dictionary with Japan's data\n",
      "Completed updating dictionary with Luxembourg's data\n",
      "Completed updating dictionary with Mexico's data\n",
      "Completed updating dictionary with Netherlands's data\n",
      "Completed updating dictionary with New Zealand's data\n",
      "Completed updating dictionary with Norway's data\n",
      "Completed updating dictionary with Poland's data\n",
      "Completed updating dictionary with Portugal's data\n",
      "Completed updating dictionary with Spain's data\n",
      "Completed updating dictionary with Sweden's data\n",
      "Completed updating dictionary with Switzerland's data\n",
      "Completed updating dictionary with United Kingdom's data\n",
      "Completed updating dictionary with United States's data\n",
      "Completed updating dictionary with Israel's data\n",
      "Completed updating dictionary with Chile's data\n",
      "Completed updating dictionary with Slovenia's data\n",
      "Completed updating dictionary with Estonia's data\n",
      "Completed updating dictionary with Lithuania's data\n",
      "Completed updating dictionary with Latvia's data\n"
     ]
    }
   ],
   "source": [
    "# to create a dictionary of the correlation values by country\n",
    "countries_corr_values = []\n",
    "country_corr_value_life_ladder =  {}\n",
    "\n",
    "i = 0\n",
    "j = 0\n",
    "\n",
    "\n",
    "while i < len(country_results): # iterates over 33 country tables\n",
    "    while j < len(columns): # iterates over 18 columns\n",
    "        key_value = country_results[i]['Life Ladder'].index[j] # to get index value of series\n",
    "        corr_value = country_results[i]['Life Ladder'].values[j] # to get corr value of series\n",
    "        \n",
    "        country_corr_value_life_ladder[key_value]: corr_value # to append data to dictionary\n",
    "        \n",
    "        j += 1\n",
    "        \n",
    "    # once all the data is appended, then it appends the country name\n",
    "    country_corr_value_life_ladder['Country Name']: country_names[i]\n",
    "    \n",
    "    countries_corr_values.append(country_corr_value_life_ladder)\n",
    "    \n",
    "\n",
    "    print(f\"Completed updating dictionary with {country_names[i]}'s data\")\n",
    "    \n",
    "    i += 1"
   ]
  },
  {
   "cell_type": "code",
   "execution_count": 27,
   "metadata": {},
   "outputs": [
    {
     "data": {
      "text/plain": [
       "[{},\n",
       " {},\n",
       " {},\n",
       " {},\n",
       " {},\n",
       " {},\n",
       " {},\n",
       " {},\n",
       " {},\n",
       " {},\n",
       " {},\n",
       " {},\n",
       " {},\n",
       " {},\n",
       " {},\n",
       " {},\n",
       " {},\n",
       " {},\n",
       " {},\n",
       " {},\n",
       " {},\n",
       " {},\n",
       " {},\n",
       " {},\n",
       " {},\n",
       " {},\n",
       " {},\n",
       " {},\n",
       " {},\n",
       " {},\n",
       " {},\n",
       " {},\n",
       " {}]"
      ]
     },
     "execution_count": 27,
     "metadata": {},
     "output_type": "execute_result"
    }
   ],
   "source": [
    "countries_corr_values"
   ]
  },
  {
   "cell_type": "code",
   "execution_count": 24,
   "metadata": {},
   "outputs": [
    {
     "ename": "NameError",
     "evalue": "name 'hi' is not defined",
     "output_type": "error",
     "traceback": [
      "\u001b[1;31m---------------------------------------------------------------------------\u001b[0m",
      "\u001b[1;31mNameError\u001b[0m                                 Traceback (most recent call last)",
      "\u001b[1;32m<ipython-input-24-55ca6286e3e4>\u001b[0m in \u001b[0;36m<module>\u001b[1;34m\u001b[0m\n\u001b[1;32m----> 1\u001b[1;33m \u001b[0mhi\u001b[0m\u001b[1;33m\u001b[0m\u001b[1;33m\u001b[0m\u001b[0m\n\u001b[0m",
      "\u001b[1;31mNameError\u001b[0m: name 'hi' is not defined"
     ]
    }
   ],
   "source": [
    "hi"
   ]
  },
  {
   "cell_type": "code",
   "execution_count": null,
   "metadata": {},
   "outputs": [],
   "source": [
    "item = list(countries_corr_values[3].values())\n",
    "values = item[:-1]\n",
    "\n",
    "# to create criteria per the values being analyzed\n",
    "max_score = max(values).round(3)\n",
    "min_score = min(values).round(3)\n",
    "\n",
    "variance_score = max_score - min_score # second value of tuple\n",
    "average_score =  mean(values).round(3) # first value of tuple\n",
    "\n",
    "tuple_values = (average_score, variance_score)\n",
    "print(tuple_values)"
   ]
  },
  {
   "cell_type": "code",
   "execution_count": null,
   "metadata": {},
   "outputs": [],
   "source": [
    "# to determine which country has the highest correlated values to the life ladder\n",
    "tupled_results = []\n",
    "\n",
    "for data in countries_corr_values:\n",
    "    values = list(data.values())\n",
    "    quant_values = values[:-1]\n",
    "    \n",
    "    print(values[-1])\n",
    "    \n",
    "    \n",
    "    # to create criteria per the values being analyzed\n",
    "    max_score = max(quant_values).round(3)\n",
    "    min_score = min(quant_values).round(3)\n",
    "    \n",
    "    variance_score = max_score - min_score # second value of tuple\n",
    "    average_score =  mean(quant_values).round(3) # first value of tuple\n",
    "    \n",
    "    tuple_values = (average_score, variance_score)\n",
    "    print(tuple_values)\n",
    "    tupled_results.append(tuple_values)   "
   ]
  },
  {
   "cell_type": "code",
   "execution_count": null,
   "metadata": {},
   "outputs": [],
   "source": [
    "tupled_results"
   ]
  },
  {
   "cell_type": "markdown",
   "metadata": {},
   "source": [
    "### Annual Correlation Analysis"
   ]
  },
  {
   "cell_type": "code",
   "execution_count": null,
   "metadata": {},
   "outputs": [],
   "source": [
    "results = []\n",
    "\n",
    "for year in years:\n",
    "    \n",
    "    # to make a dataframe per year\n",
    "    annual_happiness_data = happiness_data.loc[happiness_data['Year'] == year].reset_index()\n",
    "    \n",
    "    yearly_data = annual_happiness_data.iloc[:,4:]\n",
    "    \n",
    "    corr_matrix = yearly_data.corr(method ='pearson')\n",
    "    corr_matrix = corr_matrix[column_order]\n",
    "    corr_matrix = corr_matrix.drop(columns=['Standard deviation of ladder by country-year','Standard deviation/Mean of ladder by country-year'])\n",
    "    print(f\"Completed year {year}\")\n",
    "    \n",
    "\n",
    "    results.append(corr_matrix)"
   ]
  },
  {
   "cell_type": "code",
   "execution_count": null,
   "metadata": {},
   "outputs": [],
   "source": [
    "results[3]"
   ]
  },
  {
   "cell_type": "code",
   "execution_count": null,
   "metadata": {},
   "outputs": [],
   "source": [
    "yearly_corr_table = [] \n",
    "\n",
    "i=0 # to iterate through years to provide detail to the table\n",
    " \n",
    "# we are currently just interested in how the life ladder (happiness index) Correlates to the other values in the table\n",
    "while i < len(years):\n",
    "    for table in results:\n",
    "        corr_table = table['Life Ladder'].to_frame() # to reshape data for matrix scatter plot.\n",
    "        corr_table_rev_1 = corr_table.drop(index=['Life Ladder','Standard deviation of ladder by country-year','Standard deviation/Mean of ladder by country-year'])\n",
    "\n",
    "        # to rank the columns based on the average of the annual values\n",
    "        corr_table_rev_1['Average Rank'] = corr_table_rev_1.rank(method='average',ascending=False)\n",
    "#         corr_table_rev_1['Year'] = int(years[i])\n",
    "        \n",
    "        # to tranpose the final table to have rows equal to the year\n",
    "        corr_table_rev_2 = corr_table_rev_1.T\n",
    "        corr_table_rev_2['Year'] = int(years[i])\n",
    "        \n",
    "        \n",
    "        # to append results of both the corr table & the analysis table to a list \n",
    "        yearly_corr_table.append(corr_table_rev_2) \n",
    "\n",
    "        # to concat the correlation table & the analysis into a df\n",
    "        result = pd.concat(yearly_corr_table).round(3)\n",
    "        \n",
    "        print(f\"Completed Concat of year {years[i]}\")\n",
    "        \n",
    "        i += 1\n",
    "\n",
    "result # print result of loop"
   ]
  },
  {
   "cell_type": "code",
   "execution_count": null,
   "metadata": {},
   "outputs": [],
   "source": [
    "annual_life_ladder_corr_table = result.loc[['Life Ladder']]\n",
    "annual_avg_rank_table = result.loc[['Average Rank']]"
   ]
  },
  {
   "cell_type": "code",
   "execution_count": null,
   "metadata": {},
   "outputs": [],
   "source": [
    "annual_life_ladder_corr_table"
   ]
  },
  {
   "cell_type": "code",
   "execution_count": null,
   "metadata": {},
   "outputs": [],
   "source": [
    "avg_rank_per_col = annual_avg_rank_table.mean().round(1).sort_values()\n",
    "avg_rank_per_col"
   ]
  },
  {
   "cell_type": "code",
   "execution_count": null,
   "metadata": {},
   "outputs": [],
   "source": [
    "ordered_columns = list(avg_rank_per_col.index)\n",
    "ordered_columns"
   ]
  },
  {
   "cell_type": "code",
   "execution_count": 25,
   "metadata": {},
   "outputs": [
    {
     "ename": "NameError",
     "evalue": "name 'annual_life_ladder_corr_table' is not defined",
     "output_type": "error",
     "traceback": [
      "\u001b[1;31m---------------------------------------------------------------------------\u001b[0m",
      "\u001b[1;31mNameError\u001b[0m                                 Traceback (most recent call last)",
      "\u001b[1;32m<ipython-input-25-e9ecf0528965>\u001b[0m in \u001b[0;36m<module>\u001b[1;34m\u001b[0m\n\u001b[0;32m      1\u001b[0m \u001b[1;31m# rearranged columns for charting\u001b[0m\u001b[1;33m\u001b[0m\u001b[1;33m\u001b[0m\u001b[1;33m\u001b[0m\u001b[0m\n\u001b[1;32m----> 2\u001b[1;33m \u001b[0mannual_life_ladder_corr_table_rev1\u001b[0m \u001b[1;33m=\u001b[0m \u001b[0mannual_life_ladder_corr_table\u001b[0m\u001b[1;33m[\u001b[0m\u001b[0mordered_columns\u001b[0m\u001b[1;33m]\u001b[0m\u001b[1;33m\u001b[0m\u001b[1;33m\u001b[0m\u001b[0m\n\u001b[0m\u001b[0;32m      3\u001b[0m \u001b[0mannual_avg_rank_table_rev1\u001b[0m \u001b[1;33m=\u001b[0m \u001b[0mannual_avg_rank_table\u001b[0m\u001b[1;33m[\u001b[0m\u001b[0mordered_columns\u001b[0m\u001b[1;33m]\u001b[0m\u001b[1;33m\u001b[0m\u001b[1;33m\u001b[0m\u001b[0m\n",
      "\u001b[1;31mNameError\u001b[0m: name 'annual_life_ladder_corr_table' is not defined"
     ]
    }
   ],
   "source": [
    "# rearranged columns for charting\n",
    "annual_life_ladder_corr_table_rev1 = annual_life_ladder_corr_table[ordered_columns]\n",
    "annual_avg_rank_table_rev1 = annual_avg_rank_table[ordered_columns]"
   ]
  },
  {
   "cell_type": "code",
   "execution_count": null,
   "metadata": {},
   "outputs": [],
   "source": [
    "# to assign the depedent variable columns to a list\n",
    "dep_var_columns = list(annual_life_ladder_corr_table_rev1.iloc[:,:-1].columns)"
   ]
  },
  {
   "cell_type": "code",
   "execution_count": null,
   "metadata": {},
   "outputs": [],
   "source": [
    "# colors for the graph\n",
    "colors = ['#f21f1f','#066378','#b8f227','#ed61e4','#5f9e11','#61edda','#9ca7ff','#666c6e','#f52c7c','#5f9e11','#543d82','#f5ed16','#a18f08','#ce1dd1','#cdd164','#ed6618']"
   ]
  },
  {
   "cell_type": "code",
   "execution_count": null,
   "metadata": {},
   "outputs": [],
   "source": [
    "len(colors)"
   ]
  },
  {
   "cell_type": "code",
   "execution_count": null,
   "metadata": {},
   "outputs": [],
   "source": [
    "# to graph the variance in life ladder correlation values year over year\n",
    "y = dep_var_columns\n",
    "y_pos = np.arange(len(years))\n",
    "\n",
    "#chart\n",
    "ax = annual_life_ladder_corr_table_rev1.plot(x='Year', y=y, kind='bar', color=colors, width=.75)\n",
    "\n",
    "#legend\n",
    "ax.legend(bbox_to_anchor=(1, 1.25),loc='lower', ncol=2)\n",
    "\n",
    "# to highlight no correlation\n",
    "ax.axhline(y=0, color='mediumvioletred',linewidth=1)\n",
    "\n",
    "# to insert comment\n",
    "ax.text(0,1, 'Max Correlation = 1',ha='center', fontsize=14)\n",
    "ax.text(0,-1, 'Inverse Correlation = -1', ha='center', fontsize=14)\n",
    "ax.text(-.7,-.05, 'No Correlation = 0', fontsize=14)\n",
    "ax.text(6,-1.05, '* Variables were ordered by Average Correlation Ranking Year over Year', ha='center', color='midnightblue', fontsize=14)\n",
    "\n",
    "\n",
    "#axis labels\n",
    "ax.set_xlabel('Years', fontsize = 16)\n",
    "ax.set_ylabel('Correlation Value', fontsize=14)\n",
    "ax.set_title(r'Life Ladder Correlation Value by Variable', fontsize=16);\n",
    "\n",
    "plt.savefig('../charts/Life_Ladder_Correlation_Value.svg',format=\"svg\",bbox_inches='tight')"
   ]
  },
  {
   "cell_type": "markdown",
   "metadata": {},
   "source": [
    "#### Conclusion Summary\n",
    "----------------------------------\n",
    "\n",
    "The Life Ladder correlation between the dependent variables provides a high-level understanding of the variables' magnitude and volatility regarding 35 countries being reviewed. \n",
    "\n",
    "Variables that are suited for a linear regression model would depend on a variable's consistent linear magnitude; year over year. \n",
    "\n",
    "Thus, in the chart above, we are looking variables that hold a consistent correlation year over year for a multi-variant linear regression model. \n",
    "\n",
    "The magnitude of correlation is a factor, but it can be viewed that values that have low correlation have a higher rate of change year over year. \n",
    "\n",
    "Finally, those low and volatle variables would be interpreted as not applicable to our model. "
   ]
  },
  {
   "cell_type": "markdown",
   "metadata": {},
   "source": [
    "### <font color='orange'> Correlation Analysis </font>\n",
    "-----------------------------------------------------------------------------\n"
   ]
  },
  {
   "cell_type": "markdown",
   "metadata": {},
   "source": [
    "#### <font color = 'blue'> Step 1:  Spliting Variables into Categories </font>\n",
    "--------------------------------------------------------\n",
    "\n",
    "I would be interested in spliting the variables into categories such as economic, socio-political, and social factors. \n",
    "\n",
    "From there, I would like to make each category into a plot object of subplots.\n",
    "\n",
    "Each structure will provide 2 insights:\n",
    "\n",
    "1. If the categories have varying levels of linear properties or are properties consistent\n",
    "2. If we can generalize the linear trends by reviewing slope or the qty / the types of minimas and maximas in a line to determine which variables would be appropriate for the model"
   ]
  },
  {
   "cell_type": "markdown",
   "metadata": {},
   "source": [
    "#### <font color = 'green'> Additonal Notes </font>\n",
    "----------------------------------\n",
    "\n",
    "Now that we have compared correlation between Log GDP & GDP per Capita, we notice that Log GDP has a higher consistent correlation than GDP. \n",
    "\n",
    "Therefore, we will remove GDP (constant 2010 US$) from the options to avoid repetitive analysis. "
   ]
  },
  {
   "cell_type": "code",
   "execution_count": null,
   "metadata": {},
   "outputs": [],
   "source": [
    "# to review list of columns\n",
    "columns_to_analyze = list(annual_life_ladder_corr_table_rev1.columns)"
   ]
  },
  {
   "cell_type": "code",
   "execution_count": null,
   "metadata": {},
   "outputs": [],
   "source": [
    "columns_to_analyze"
   ]
  },
  {
   "cell_type": "code",
   "execution_count": null,
   "metadata": {},
   "outputs": [],
   "source": [
    "# list of columns' indexes\n",
    "# not including year yet so we can check for duplicates once completed with sublists\n",
    "\n",
    "# index values\n",
    "# economic : 2,6,9,13\n",
    "# socio-political : 3,4,5,8,14,15\n",
    "# social : 0,1,7,10,11\n",
    "\n",
    "# lists\n",
    "economic_cols = ['Avg. Wages (Annual)',\n",
    "                 'Log GDP per capita',\n",
    "                 'gini of household income reported in Gallup, by wp5-year',\n",
    "                 'Avg. Work Hours (Annual)']\n",
    "\n",
    "\n",
    "socio_political_cols = ['Delivery Quality',\n",
    "                        'Confidence in national government',\n",
    "                        'Positive affect',\n",
    "                        'Positive affect',\n",
    "                        'Negative affect',\n",
    "                        'Perceptions of corruption']\n",
    "\n",
    "\n",
    "social_cols = ['Freedom to make life choices','Generosity','Social support','Healthy life expectancy at birth','Population density (people per sq. km of land area)']"
   ]
  },
  {
   "cell_type": "code",
   "execution_count": null,
   "metadata": {},
   "outputs": [],
   "source": [
    "# to combine all the lists for comparison\n",
    "created_list = economic_cols + socio_political_cols + social_cols\n",
    "created_list"
   ]
  },
  {
   "cell_type": "code",
   "execution_count": null,
   "metadata": {},
   "outputs": [],
   "source": [
    "# to remove 'GDP (constant 2010 US$)' from list before analysis review\n",
    " ## We wanted to keep it before, so our index values above aligned with the original data table \n",
    " ## - the second method of assessing the values is there as a proactive measure -  \n",
    "\n",
    "columns_to_analyze.remove('GDP (constant 2010 US$)')\n",
    "columns_to_analyze.remove('Year')"
   ]
  },
  {
   "cell_type": "code",
   "execution_count": null,
   "metadata": {},
   "outputs": [],
   "source": [
    "columns_to_analyze"
   ]
  },
  {
   "cell_type": "code",
   "execution_count": null,
   "metadata": {},
   "outputs": [],
   "source": [
    "# to test value Error in loop below\n",
    "# created_list.append('Test') "
   ]
  },
  {
   "cell_type": "code",
   "execution_count": null,
   "metadata": {},
   "outputs": [],
   "source": [
    "# If they have the same length & they \n",
    "length_comparison = len(created_list) - len(columns_to_analyze)\n",
    "length_comparison"
   ]
  },
  {
   "cell_type": "code",
   "execution_count": null,
   "metadata": {},
   "outputs": [],
   "source": [
    "# to check for differences between list of indexes & created lists\n",
    "list_differences = list(set(created_list) - set(columns_to_analyze))\n",
    "list_differences"
   ]
  },
  {
   "cell_type": "code",
   "execution_count": null,
   "metadata": {},
   "outputs": [],
   "source": [
    "# to check for differences between list of indexes & created lists\n",
    "list_differences = list(set(created_list) - set(columns_to_analyze))\n",
    "\n",
    "# to confirm that each list has all the indexes accounted for and that there are no duplicates\n",
    "if not list_differences and \\\n",
    "    length_comparison == 0:\n",
    "    print(\"There are no duplicates & no values missing\")\n",
    "else:\n",
    "    print('Missing an Item')\n",
    "    raise ValueError('list should be empty & may be duplicates')"
   ]
  },
  {
   "cell_type": "code",
   "execution_count": null,
   "metadata": {},
   "outputs": [],
   "source": [
    "order_of_analysis = [economic_cols, socio_political_cols, social_cols]\n",
    "order_of_analysis"
   ]
  },
  {
   "cell_type": "code",
   "execution_count": null,
   "metadata": {},
   "outputs": [],
   "source": [
    "## to also include the year in the final dataframe table \n",
    " ## we are including the last column of the annual_life_ladder_corr_table_rev1, 'Year'. \n",
    "i = 0\n",
    "\n",
    "while i < 3:\n",
    "    order_of_analysis[i].append('Year')\n",
    "    \n",
    "    print(f'Completed list {i} of 2')\n",
    "    \n",
    "    i += 1"
   ]
  },
  {
   "cell_type": "code",
   "execution_count": null,
   "metadata": {},
   "outputs": [],
   "source": [
    "# make dataframes from the indexed list for columns\n",
    "economic_df = annual_life_ladder_corr_table_rev1.loc[:,order_of_analysis[0]]\n",
    "social_political_df = annual_life_ladder_corr_table_rev1.loc[:,order_of_analysis[1]]\n",
    "social_df = annual_life_ladder_corr_table_rev1.loc[:,order_of_analysis[2]]"
   ]
  },
  {
   "cell_type": "code",
   "execution_count": null,
   "metadata": {},
   "outputs": [],
   "source": [
    "economic_df = economic_df.rename(columns={'gini of household income reported in Gallup, by wp5-year': 'GINI index'})"
   ]
  },
  {
   "cell_type": "code",
   "execution_count": null,
   "metadata": {},
   "outputs": [],
   "source": [
    "economic_df"
   ]
  },
  {
   "cell_type": "markdown",
   "metadata": {},
   "source": [
    "#### <font color='darkblue'> Step 2: Plot Linear Regression Line & Review Variables Volatility</font>\n",
    "-------------------------\n"
   ]
  },
  {
   "cell_type": "code",
   "execution_count": null,
   "metadata": {},
   "outputs": [],
   "source": [
    "economic_columns = list(economic_df.columns[:-1])\n",
    "economic_columns"
   ]
  },
  {
   "cell_type": "code",
   "execution_count": null,
   "metadata": {},
   "outputs": [],
   "source": [
    "dep_var_columns"
   ]
  },
  {
   "cell_type": "code",
   "execution_count": null,
   "metadata": {},
   "outputs": [],
   "source": [
    "colors"
   ]
  },
  {
   "cell_type": "code",
   "execution_count": null,
   "metadata": {},
   "outputs": [],
   "source": [
    "# to use consistent colors for variables across charts\n",
    "colors_dict = {}\n",
    "\n",
    "i = 0\n",
    "\n",
    "while i < len(dep_var_columns):\n",
    "    colors_dict.update({dep_var_columns[i]:colors[i]})\n",
    "    \n",
    "    print(f\"Updated Color Dictionary to have variable with color: {dep_var_columns[i]}/{colors[i]}\")\n",
    "    \n",
    "    i += 1\n",
    "\n",
    "colors_dict"
   ]
  },
  {
   "cell_type": "code",
   "execution_count": null,
   "metadata": {},
   "outputs": [],
   "source": [
    "# to create a color pallet for economic variables that match master correlation chart\n",
    "economic_colors = []\n",
    "economic_index_values = [2,6,9,13]\n",
    "\n",
    "for index in economic_index_values:\n",
    "    economic_colors.append(colors[index])\n",
    "\n",
    "economic_colors"
   ]
  },
  {
   "cell_type": "code",
   "execution_count": null,
   "metadata": {},
   "outputs": [],
   "source": [
    "X = list(economic_df['Year'].values)\n",
    "y_avg = list(economic_df['Avg. Wages (Annual)'].values)\n",
    "y_log_gdp = list(economic_df['Log GDP per capita'].values)\n",
    "y_gini = list(economic_df['GINI index'].values)\n",
    "y_hrs = list(economic_df['Avg. Work Hours (Annual)'].values)"
   ]
  },
  {
   "cell_type": "code",
   "execution_count": null,
   "metadata": {},
   "outputs": [],
   "source": [
    "# to make a list of category attributes\n",
    "y_values = [y_avg, y_log_gdp, y_gini, y_hrs]\n",
    "set_face_colors = ['#828181','#828181','#ffffff','#ffffff']\n",
    "set_titles_values = ['Avg. Wages (Annual)','Log GDP per capita','Avg. Work Hours (Annual)','GINI of household income']\n",
    "\n",
    "# to plot a chart for all economic factors\n",
    "fig = plt.figure()\n",
    "fig.suptitle('Economic Correlation Trend from 2010 - 2017', fontsize=16)\n",
    "fig.subplots_adjust(hspace=0.2)\n",
    "for i in range(1, 5):\n",
    "    ax = fig.add_subplot(2, 2, i)\n",
    "    ax.plot(X, y_values[(i-1)], color= economic_colors[(i-1)])\n",
    "    ax.grid(False)\n",
    "    ax.set_facecolor(set_face_colors[(i-1)])\n",
    "    ax.set_title(set_titles_values[(i-1)])"
   ]
  },
  {
   "cell_type": "markdown",
   "metadata": {},
   "source": [
    "Regression Line Calculation"
   ]
  },
  {
   "cell_type": "code",
   "execution_count": null,
   "metadata": {},
   "outputs": [],
   "source": [
    "xs = economic_df['Year'].values\n",
    "ys = economic_df['Avg. Wages (Annual)'].values\n",
    "\n",
    "def best_fit_slope_and_intercept(xs,ys):\n",
    "    m = (((mean(xs)*mean(ys)) - mean(xs*ys)) /\n",
    "         ((mean(xs)*mean(xs)) - mean(xs*xs)))\n",
    "    \n",
    "    b = mean(ys) - m*mean(xs)\n",
    "    \n",
    "    return m, b\n",
    "\n",
    "m, b = best_fit_slope_and_intercept(xs,ys)\n",
    "\n",
    "print(f'slope: {m}')\n",
    "print(f'y-intercept {b}')\n",
    "\n",
    "\n",
    "regression_line = [(m*x)+b for x in xs]\n",
    "\n",
    "print(f'y-int regression points {regression_line}')"
   ]
  },
  {
   "cell_type": "markdown",
   "metadata": {},
   "source": [
    "Next steps are to make the the calculation into a loop for all variables per category and then to make subplots per category and determine next steps for analysis"
   ]
  },
  {
   "cell_type": "markdown",
   "metadata": {},
   "source": [
    "\n",
    "\n",
    "### Multi-Variant Linear Regression"
   ]
  },
  {
   "cell_type": "markdown",
   "metadata": {},
   "source": [
    "y = mx + b with multiple mx variables"
   ]
  }
 ],
 "metadata": {
  "kernelspec": {
   "display_name": "Python [conda env:pythondata] *",
   "language": "python",
   "name": "conda-env-pythondata-py"
  },
  "language_info": {
   "codemirror_mode": {
    "name": "ipython",
    "version": 3
   },
   "file_extension": ".py",
   "mimetype": "text/x-python",
   "name": "python",
   "nbconvert_exporter": "python",
   "pygments_lexer": "ipython3",
   "version": "3.7.4"
  }
 },
 "nbformat": 4,
 "nbformat_minor": 2
}
