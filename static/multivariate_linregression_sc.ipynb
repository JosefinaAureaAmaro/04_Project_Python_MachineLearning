{
 "cells": [
  {
   "cell_type": "code",
   "execution_count": 1,
   "metadata": {},
   "outputs": [],
   "source": [
    "%matplotlib inline\n",
    "import matplotlib.pyplot as plt\n",
    "import numpy as np\n",
    "import pandas as pd\n",
    "import warnings\n",
    "warnings.simplefilter('ignore')\n",
    "import statsmodels.api as sm"
   ]
  },
  {
   "cell_type": "code",
   "execution_count": 2,
   "metadata": {},
   "outputs": [
    {
     "data": {
      "text/html": [
       "<div>\n",
       "<style scoped>\n",
       "    .dataframe tbody tr th:only-of-type {\n",
       "        vertical-align: middle;\n",
       "    }\n",
       "\n",
       "    .dataframe tbody tr th {\n",
       "        vertical-align: top;\n",
       "    }\n",
       "\n",
       "    .dataframe thead th {\n",
       "        text-align: right;\n",
       "    }\n",
       "</style>\n",
       "<table border=\"1\" class=\"dataframe\">\n",
       "  <thead>\n",
       "    <tr style=\"text-align: right;\">\n",
       "      <th></th>\n",
       "      <th>Dataset</th>\n",
       "      <th>COU</th>\n",
       "      <th>Country</th>\n",
       "      <th>Year</th>\n",
       "      <th>Description</th>\n",
       "      <th>Value</th>\n",
       "      <th>Unit</th>\n",
       "      <th>Life Ladder</th>\n",
       "      <th>Log GDP per capita</th>\n",
       "      <th>Social support</th>\n",
       "      <th>...</th>\n",
       "      <th>GINI index (World Bank estimate)</th>\n",
       "      <th>GINI index (World Bank estimate), average 2000-16</th>\n",
       "      <th>gini of household income reported in Gallup, by wp5-year</th>\n",
       "      <th>Most people can be trusted, Gallup</th>\n",
       "      <th>Most people can be trusted, WVS round 1981-1984</th>\n",
       "      <th>Most people can be trusted, WVS round 1989-1993</th>\n",
       "      <th>Most people can be trusted, WVS round 1994-1998</th>\n",
       "      <th>Most people can be trusted, WVS round 1999-2004</th>\n",
       "      <th>Most people can be trusted, WVS round 2005-2009</th>\n",
       "      <th>Most people can be trusted, WVS round 2010-2014</th>\n",
       "    </tr>\n",
       "  </thead>\n",
       "  <tbody>\n",
       "    <tr>\n",
       "      <th>0</th>\n",
       "      <td>Avg. Work Hours (Annual)</td>\n",
       "      <td>AUS</td>\n",
       "      <td>Australia</td>\n",
       "      <td>2005</td>\n",
       "      <td>Total employment</td>\n",
       "      <td>1732.26000</td>\n",
       "      <td>Hours</td>\n",
       "      <td>7.340688</td>\n",
       "      <td>10.569470</td>\n",
       "      <td>0.967892</td>\n",
       "      <td>...</td>\n",
       "      <td>NaN</td>\n",
       "      <td>0.34275</td>\n",
       "      <td>NaN</td>\n",
       "      <td>NaN</td>\n",
       "      <td>0.478149</td>\n",
       "      <td>NaN</td>\n",
       "      <td>0.394492</td>\n",
       "      <td>NaN</td>\n",
       "      <td>0.461379</td>\n",
       "      <td>0.51814</td>\n",
       "    </tr>\n",
       "    <tr>\n",
       "      <th>1</th>\n",
       "      <td>Avg. Wages (Annual)</td>\n",
       "      <td>AUS</td>\n",
       "      <td>Australia</td>\n",
       "      <td>2005</td>\n",
       "      <td>In 2018 constant prices at 2018 USD PPPs</td>\n",
       "      <td>48891.30501</td>\n",
       "      <td>USD</td>\n",
       "      <td>7.340688</td>\n",
       "      <td>10.569470</td>\n",
       "      <td>0.967892</td>\n",
       "      <td>...</td>\n",
       "      <td>NaN</td>\n",
       "      <td>0.34275</td>\n",
       "      <td>NaN</td>\n",
       "      <td>NaN</td>\n",
       "      <td>0.478149</td>\n",
       "      <td>NaN</td>\n",
       "      <td>0.394492</td>\n",
       "      <td>NaN</td>\n",
       "      <td>0.461379</td>\n",
       "      <td>0.51814</td>\n",
       "    </tr>\n",
       "    <tr>\n",
       "      <th>2</th>\n",
       "      <td>Avg. Work Hours (Annual)</td>\n",
       "      <td>AUS</td>\n",
       "      <td>Australia</td>\n",
       "      <td>2007</td>\n",
       "      <td>Total employment</td>\n",
       "      <td>1722.64000</td>\n",
       "      <td>Hours</td>\n",
       "      <td>7.285391</td>\n",
       "      <td>10.613497</td>\n",
       "      <td>0.965276</td>\n",
       "      <td>...</td>\n",
       "      <td>NaN</td>\n",
       "      <td>0.34275</td>\n",
       "      <td>NaN</td>\n",
       "      <td>NaN</td>\n",
       "      <td>0.478149</td>\n",
       "      <td>NaN</td>\n",
       "      <td>0.394492</td>\n",
       "      <td>NaN</td>\n",
       "      <td>0.461379</td>\n",
       "      <td>0.51814</td>\n",
       "    </tr>\n",
       "    <tr>\n",
       "      <th>3</th>\n",
       "      <td>Avg. Wages (Annual)</td>\n",
       "      <td>AUS</td>\n",
       "      <td>Australia</td>\n",
       "      <td>2007</td>\n",
       "      <td>In 2018 constant prices at 2018 USD PPPs</td>\n",
       "      <td>50565.39819</td>\n",
       "      <td>USD</td>\n",
       "      <td>7.285391</td>\n",
       "      <td>10.613497</td>\n",
       "      <td>0.965276</td>\n",
       "      <td>...</td>\n",
       "      <td>NaN</td>\n",
       "      <td>0.34275</td>\n",
       "      <td>NaN</td>\n",
       "      <td>NaN</td>\n",
       "      <td>0.478149</td>\n",
       "      <td>NaN</td>\n",
       "      <td>0.394492</td>\n",
       "      <td>NaN</td>\n",
       "      <td>0.461379</td>\n",
       "      <td>0.51814</td>\n",
       "    </tr>\n",
       "    <tr>\n",
       "      <th>4</th>\n",
       "      <td>Mortality Causes</td>\n",
       "      <td>AUS</td>\n",
       "      <td>Australia</td>\n",
       "      <td>2007</td>\n",
       "      <td>All causes of death</td>\n",
       "      <td>137854.00000</td>\n",
       "      <td>NBPOPUPC</td>\n",
       "      <td>7.285391</td>\n",
       "      <td>10.613497</td>\n",
       "      <td>0.965276</td>\n",
       "      <td>...</td>\n",
       "      <td>NaN</td>\n",
       "      <td>0.34275</td>\n",
       "      <td>NaN</td>\n",
       "      <td>NaN</td>\n",
       "      <td>0.478149</td>\n",
       "      <td>NaN</td>\n",
       "      <td>0.394492</td>\n",
       "      <td>NaN</td>\n",
       "      <td>0.461379</td>\n",
       "      <td>0.51814</td>\n",
       "    </tr>\n",
       "  </tbody>\n",
       "</table>\n",
       "<p>5 rows × 31 columns</p>\n",
       "</div>"
      ],
      "text/plain": [
       "                    Dataset  COU    Country  Year  \\\n",
       "0  Avg. Work Hours (Annual)  AUS  Australia  2005   \n",
       "1       Avg. Wages (Annual)  AUS  Australia  2005   \n",
       "2  Avg. Work Hours (Annual)  AUS  Australia  2007   \n",
       "3       Avg. Wages (Annual)  AUS  Australia  2007   \n",
       "4          Mortality Causes  AUS  Australia  2007   \n",
       "\n",
       "                                Description         Value      Unit  \\\n",
       "0                          Total employment    1732.26000     Hours   \n",
       "1  In 2018 constant prices at 2018 USD PPPs   48891.30501       USD   \n",
       "2                          Total employment    1722.64000     Hours   \n",
       "3  In 2018 constant prices at 2018 USD PPPs   50565.39819       USD   \n",
       "4                       All causes of death  137854.00000  NBPOPUPC   \n",
       "\n",
       "   Life Ladder  Log GDP per capita  Social support  ...  \\\n",
       "0     7.340688           10.569470        0.967892  ...   \n",
       "1     7.340688           10.569470        0.967892  ...   \n",
       "2     7.285391           10.613497        0.965276  ...   \n",
       "3     7.285391           10.613497        0.965276  ...   \n",
       "4     7.285391           10.613497        0.965276  ...   \n",
       "\n",
       "   GINI index (World Bank estimate)  \\\n",
       "0                               NaN   \n",
       "1                               NaN   \n",
       "2                               NaN   \n",
       "3                               NaN   \n",
       "4                               NaN   \n",
       "\n",
       "   GINI index (World Bank estimate), average 2000-16  \\\n",
       "0                                            0.34275   \n",
       "1                                            0.34275   \n",
       "2                                            0.34275   \n",
       "3                                            0.34275   \n",
       "4                                            0.34275   \n",
       "\n",
       "   gini of household income reported in Gallup, by wp5-year  \\\n",
       "0                                                NaN          \n",
       "1                                                NaN          \n",
       "2                                                NaN          \n",
       "3                                                NaN          \n",
       "4                                                NaN          \n",
       "\n",
       "   Most people can be trusted, Gallup  \\\n",
       "0                                 NaN   \n",
       "1                                 NaN   \n",
       "2                                 NaN   \n",
       "3                                 NaN   \n",
       "4                                 NaN   \n",
       "\n",
       "   Most people can be trusted, WVS round 1981-1984  \\\n",
       "0                                         0.478149   \n",
       "1                                         0.478149   \n",
       "2                                         0.478149   \n",
       "3                                         0.478149   \n",
       "4                                         0.478149   \n",
       "\n",
       "   Most people can be trusted, WVS round 1989-1993  \\\n",
       "0                                              NaN   \n",
       "1                                              NaN   \n",
       "2                                              NaN   \n",
       "3                                              NaN   \n",
       "4                                              NaN   \n",
       "\n",
       "   Most people can be trusted, WVS round 1994-1998  \\\n",
       "0                                         0.394492   \n",
       "1                                         0.394492   \n",
       "2                                         0.394492   \n",
       "3                                         0.394492   \n",
       "4                                         0.394492   \n",
       "\n",
       "   Most people can be trusted, WVS round 1999-2004  \\\n",
       "0                                              NaN   \n",
       "1                                              NaN   \n",
       "2                                              NaN   \n",
       "3                                              NaN   \n",
       "4                                              NaN   \n",
       "\n",
       "   Most people can be trusted, WVS round 2005-2009  \\\n",
       "0                                         0.461379   \n",
       "1                                         0.461379   \n",
       "2                                         0.461379   \n",
       "3                                         0.461379   \n",
       "4                                         0.461379   \n",
       "\n",
       "   Most people can be trusted, WVS round 2010-2014  \n",
       "0                                          0.51814  \n",
       "1                                          0.51814  \n",
       "2                                          0.51814  \n",
       "3                                          0.51814  \n",
       "4                                          0.51814  \n",
       "\n",
       "[5 rows x 31 columns]"
      ]
     },
     "execution_count": 2,
     "metadata": {},
     "output_type": "execute_result"
    }
   ],
   "source": [
    "# Read the csv file into a pandas DataFrame\n",
    "\n",
    "data_allyears = pd.read_csv('resources/OECD_Happiness_Merge_Dataframes.csv')\n",
    "data_allyears.head()"
   ]
  },
  {
   "cell_type": "code",
   "execution_count": 3,
   "metadata": {},
   "outputs": [
    {
     "data": {
      "text/plain": [
       "Dataset                                                        0\n",
       "COU                                                            0\n",
       "Country                                                        0\n",
       "Year                                                           0\n",
       "Description                                                    0\n",
       "Value                                                          0\n",
       "Unit                                                           0\n",
       "Life Ladder                                                    0\n",
       "Log GDP per capita                                             0\n",
       "Social support                                                 6\n",
       "Healthy life expectancy at birth                               0\n",
       "Freedom to make life choices                                   0\n",
       "Generosity                                                    62\n",
       "Perceptions of corruption                                      6\n",
       "Positive affect                                                0\n",
       "Negative affect                                                1\n",
       "Confidence in national government                              2\n",
       "Democratic Quality                                            61\n",
       "Delivery Quality                                              61\n",
       "Standard deviation of ladder by country-year                   0\n",
       "Standard deviation/Mean of ladder by country-year              0\n",
       "GINI index (World Bank estimate)                             439\n",
       "GINI index (World Bank estimate), average 2000-16             64\n",
       "gini of household income reported in Gallup, by wp5-year     274\n",
       "Most people can be trusted, Gallup                          1060\n",
       "Most people can be trusted, WVS round 1981-1984              916\n",
       "Most people can be trusted, WVS round 1989-1993              890\n",
       "Most people can be trusted, WVS round 1994-1998              493\n",
       "Most people can be trusted, WVS round 1999-2004              848\n",
       "Most people can be trusted, WVS round 2005-2009              451\n",
       "Most people can be trusted, WVS round 2010-2014              660\n",
       "dtype: int64"
      ]
     },
     "execution_count": 3,
     "metadata": {},
     "output_type": "execute_result"
    }
   ],
   "source": [
    "data_allyears.isnull().sum()"
   ]
  },
  {
   "cell_type": "code",
   "execution_count": 5,
   "metadata": {},
   "outputs": [
    {
     "data": {
      "text/plain": [
       "Dataset                                                      object\n",
       "COU                                                          object\n",
       "Country                                                      object\n",
       "Year                                                          int64\n",
       "Description                                                  object\n",
       "Value                                                       float64\n",
       "Unit                                                         object\n",
       "Life Ladder                                                 float64\n",
       "Log GDP per capita                                          float64\n",
       "Social support                                              float64\n",
       "Healthy life expectancy at birth                            float64\n",
       "Freedom to make life choices                                float64\n",
       "Generosity                                                  float64\n",
       "Perceptions of corruption                                   float64\n",
       "Positive affect                                             float64\n",
       "Negative affect                                             float64\n",
       "Confidence in national government                           float64\n",
       "Democratic Quality                                          float64\n",
       "Delivery Quality                                            float64\n",
       "Standard deviation of ladder by country-year                float64\n",
       "Standard deviation/Mean of ladder by country-year           float64\n",
       "GINI index (World Bank estimate)                            float64\n",
       "GINI index (World Bank estimate), average 2000-16           float64\n",
       "gini of household income reported in Gallup, by wp5-year    float64\n",
       "Most people can be trusted, Gallup                          float64\n",
       "Most people can be trusted, WVS round 1981-1984             float64\n",
       "Most people can be trusted, WVS round 1989-1993             float64\n",
       "Most people can be trusted, WVS round 1994-1998             float64\n",
       "Most people can be trusted, WVS round 1999-2004             float64\n",
       "Most people can be trusted, WVS round 2005-2009             float64\n",
       "Most people can be trusted, WVS round 2010-2014             float64\n",
       "dtype: object"
      ]
     },
     "execution_count": 5,
     "metadata": {},
     "output_type": "execute_result"
    }
   ],
   "source": [
    "data_allyears.dtypes"
   ]
  },
  {
   "cell_type": "code",
   "execution_count": 6,
   "metadata": {
    "scrolled": true
   },
   "outputs": [
    {
     "data": {
      "text/plain": [
       "Index(['Dataset', 'COU', 'Country', 'Year', 'Description', 'Value', 'Unit',\n",
       "       'Life Ladder', 'Log GDP per capita', 'Social support',\n",
       "       'Healthy life expectancy at birth', 'Freedom to make life choices',\n",
       "       'Generosity', 'Perceptions of corruption', 'Positive affect',\n",
       "       'Negative affect', 'Confidence in national government',\n",
       "       'Democratic Quality', 'Delivery Quality',\n",
       "       'Standard deviation of ladder by country-year',\n",
       "       'Standard deviation/Mean of ladder by country-year',\n",
       "       'GINI index (World Bank estimate)',\n",
       "       'GINI index (World Bank estimate), average 2000-16',\n",
       "       'gini of household income reported in Gallup, by wp5-year',\n",
       "       'Most people can be trusted, Gallup',\n",
       "       'Most people can be trusted, WVS round 1981-1984',\n",
       "       'Most people can be trusted, WVS round 1989-1993',\n",
       "       'Most people can be trusted, WVS round 1994-1998',\n",
       "       'Most people can be trusted, WVS round 1999-2004',\n",
       "       'Most people can be trusted, WVS round 2005-2009',\n",
       "       'Most people can be trusted, WVS round 2010-2014'],\n",
       "      dtype='object')"
      ]
     },
     "execution_count": 6,
     "metadata": {},
     "output_type": "execute_result"
    }
   ],
   "source": [
    "data_allyears.columns"
   ]
  },
  {
   "cell_type": "code",
   "execution_count": 7,
   "metadata": {},
   "outputs": [
    {
     "data": {
      "text/plain": [
       "Dataset                                                        0\n",
       "COU                                                            0\n",
       "Country                                                        0\n",
       "Year                                                           0\n",
       "Description                                                    0\n",
       "Value                                                          0\n",
       "Unit                                                           0\n",
       "Life Ladder                                                    0\n",
       "Log GDP per capita                                             0\n",
       "Social support                                                 6\n",
       "Healthy life expectancy at birth                               0\n",
       "Freedom to make life choices                                   0\n",
       "Generosity                                                    62\n",
       "Perceptions of corruption                                      6\n",
       "Positive affect                                                0\n",
       "Negative affect                                                1\n",
       "Confidence in national government                              2\n",
       "Democratic Quality                                            61\n",
       "Delivery Quality                                              61\n",
       "Standard deviation of ladder by country-year                   0\n",
       "Standard deviation/Mean of ladder by country-year              0\n",
       "GINI index (World Bank estimate)                             439\n",
       "GINI index (World Bank estimate), average 2000-16             64\n",
       "gini of household income reported in Gallup, by wp5-year     274\n",
       "Most people can be trusted, Gallup                          1060\n",
       "Most people can be trusted, WVS round 1981-1984              916\n",
       "Most people can be trusted, WVS round 1989-1993              890\n",
       "Most people can be trusted, WVS round 1994-1998              493\n",
       "Most people can be trusted, WVS round 1999-2004              848\n",
       "Most people can be trusted, WVS round 2005-2009              451\n",
       "Most people can be trusted, WVS round 2010-2014              660\n",
       "dtype: int64"
      ]
     },
     "execution_count": 7,
     "metadata": {},
     "output_type": "execute_result"
    }
   ],
   "source": [
    "data_allyears.isnull().sum()"
   ]
  },
  {
   "cell_type": "code",
   "execution_count": 17,
   "metadata": {},
   "outputs": [
    {
     "name": "stdout",
     "output_type": "stream",
     "text": [
      "(1039, 8) (1039, 1)\n"
     ]
    }
   ],
   "source": [
    "### Pick out only rows with the specified columns\n",
    "data_sliced_df = data_allyears[['Log GDP per capita', 'Social support', 'Healthy life expectancy at birth', 'Freedom to make life choices', 'Generosity', 'Perceptions of corruption', 'Confidence in national government', 'GINI index (World Bank estimate), average 2000-16', 'Life Ladder']]\n",
    "\n",
    "### Fix the dataframe by dropping null values\n",
    "data_allyears_clean = data_sliced_df.dropna()\n",
    "\n",
    "### Determine our X and y dataframes\n",
    "X = data_allyears_clean[['Log GDP per capita', 'Social support', 'Healthy life expectancy at birth', 'Freedom to make life choices', 'Generosity', 'Perceptions of corruption', 'Confidence in national government', 'GINI index (World Bank estimate), average 2000-16']]\n",
    "y = data_allyears_clean[['Life Ladder']].values.reshape(-1, 1)\n",
    "print(X.shape, y.shape)"
   ]
  },
  {
   "cell_type": "code",
   "execution_count": 9,
   "metadata": {},
   "outputs": [
    {
     "data": {
      "text/plain": [
       "Log GDP per capita                                   0\n",
       "Social support                                       0\n",
       "Healthy life expectancy at birth                     0\n",
       "Freedom to make life choices                         0\n",
       "Generosity                                           0\n",
       "Perceptions of corruption                            0\n",
       "Confidence in national government                    0\n",
       "GINI index (World Bank estimate), average 2000-16    0\n",
       "dtype: int64"
      ]
     },
     "execution_count": 9,
     "metadata": {},
     "output_type": "execute_result"
    }
   ],
   "source": [
    "# check to NaN/null values\n",
    "X.isnull().sum()"
   ]
  },
  {
   "cell_type": "code",
   "execution_count": 10,
   "metadata": {},
   "outputs": [],
   "source": [
    "# Scale data down to standardize data set and avoid errors\n",
    "from sklearn.preprocessing import StandardScaler\n",
    "X_scaler = StandardScaler().fit(X)\n",
    "y_scaler = StandardScaler().fit(y)"
   ]
  },
  {
   "cell_type": "code",
   "execution_count": 11,
   "metadata": {},
   "outputs": [],
   "source": [
    "X_scaled = X_scaler.transform(X)\n",
    "y_scaled = y_scaler.transform(y)"
   ]
  },
  {
   "cell_type": "code",
   "execution_count": 12,
   "metadata": {},
   "outputs": [
    {
     "data": {
      "text/plain": [
       "array([[ 0.81510684],\n",
       "       [ 0.81510684],\n",
       "       [ 0.81510684],\n",
       "       ...,\n",
       "       [-0.00744031],\n",
       "       [-0.1985992 ],\n",
       "       [-0.2727759 ]])"
      ]
     },
     "execution_count": 12,
     "metadata": {},
     "output_type": "execute_result"
    }
   ],
   "source": [
    "# Test-print scaled set\n",
    "y_scaled"
   ]
  },
  {
   "cell_type": "code",
   "execution_count": 13,
   "metadata": {
    "scrolled": true
   },
   "outputs": [
    {
     "data": {
      "text/html": [
       "<table class=\"simpletable\">\n",
       "<caption>OLS Regression Results</caption>\n",
       "<tr>\n",
       "  <th>Dep. Variable:</th>            <td>y</td>        <th>  R-squared:         </th> <td>   0.741</td> \n",
       "</tr>\n",
       "<tr>\n",
       "  <th>Model:</th>                   <td>OLS</td>       <th>  Adj. R-squared:    </th> <td>   0.739</td> \n",
       "</tr>\n",
       "<tr>\n",
       "  <th>Method:</th>             <td>Least Squares</td>  <th>  F-statistic:       </th> <td>   368.1</td> \n",
       "</tr>\n",
       "<tr>\n",
       "  <th>Date:</th>             <td>Thu, 03 Oct 2019</td> <th>  Prob (F-statistic):</th> <td>6.67e-296</td>\n",
       "</tr>\n",
       "<tr>\n",
       "  <th>Time:</th>                 <td>17:59:36</td>     <th>  Log-Likelihood:    </th> <td> -773.15</td> \n",
       "</tr>\n",
       "<tr>\n",
       "  <th>No. Observations:</th>      <td>  1039</td>      <th>  AIC:               </th> <td>   1562.</td> \n",
       "</tr>\n",
       "<tr>\n",
       "  <th>Df Residuals:</th>          <td>  1031</td>      <th>  BIC:               </th> <td>   1602.</td> \n",
       "</tr>\n",
       "<tr>\n",
       "  <th>Df Model:</th>              <td>     8</td>      <th>                     </th>     <td> </td>    \n",
       "</tr>\n",
       "<tr>\n",
       "  <th>Covariance Type:</th>      <td>nonrobust</td>    <th>                     </th>     <td> </td>    \n",
       "</tr>\n",
       "</table>\n",
       "<table class=\"simpletable\">\n",
       "<tr>\n",
       "   <td></td>     <th>coef</th>     <th>std err</th>      <th>t</th>      <th>P>|t|</th>  <th>[0.025</th>    <th>0.975]</th>  \n",
       "</tr>\n",
       "<tr>\n",
       "  <th>x1</th> <td>   -0.0291</td> <td>    0.031</td> <td>   -0.926</td> <td> 0.355</td> <td>   -0.091</td> <td>    0.033</td>\n",
       "</tr>\n",
       "<tr>\n",
       "  <th>x2</th> <td>    0.1562</td> <td>    0.023</td> <td>    6.686</td> <td> 0.000</td> <td>    0.110</td> <td>    0.202</td>\n",
       "</tr>\n",
       "<tr>\n",
       "  <th>x3</th> <td>    0.2699</td> <td>    0.022</td> <td>   12.284</td> <td> 0.000</td> <td>    0.227</td> <td>    0.313</td>\n",
       "</tr>\n",
       "<tr>\n",
       "  <th>x4</th> <td>    0.1791</td> <td>    0.028</td> <td>    6.481</td> <td> 0.000</td> <td>    0.125</td> <td>    0.233</td>\n",
       "</tr>\n",
       "<tr>\n",
       "  <th>x5</th> <td>    0.2488</td> <td>    0.023</td> <td>   10.597</td> <td> 0.000</td> <td>    0.203</td> <td>    0.295</td>\n",
       "</tr>\n",
       "<tr>\n",
       "  <th>x6</th> <td>   -0.2486</td> <td>    0.032</td> <td>   -7.749</td> <td> 0.000</td> <td>   -0.312</td> <td>   -0.186</td>\n",
       "</tr>\n",
       "<tr>\n",
       "  <th>x7</th> <td>    0.1242</td> <td>    0.027</td> <td>    4.548</td> <td> 0.000</td> <td>    0.071</td> <td>    0.178</td>\n",
       "</tr>\n",
       "<tr>\n",
       "  <th>x8</th> <td>    0.1764</td> <td>    0.025</td> <td>    7.177</td> <td> 0.000</td> <td>    0.128</td> <td>    0.225</td>\n",
       "</tr>\n",
       "</table>\n",
       "<table class=\"simpletable\">\n",
       "<tr>\n",
       "  <th>Omnibus:</th>       <td> 7.208</td> <th>  Durbin-Watson:     </th> <td>   0.213</td>\n",
       "</tr>\n",
       "<tr>\n",
       "  <th>Prob(Omnibus):</th> <td> 0.027</td> <th>  Jarque-Bera (JB):  </th> <td>   9.561</td>\n",
       "</tr>\n",
       "<tr>\n",
       "  <th>Skew:</th>          <td>-0.036</td> <th>  Prob(JB):          </th> <td> 0.00839</td>\n",
       "</tr>\n",
       "<tr>\n",
       "  <th>Kurtosis:</th>      <td> 3.464</td> <th>  Cond. No.          </th> <td>    5.52</td>\n",
       "</tr>\n",
       "</table><br/><br/>Warnings:<br/>[1] Standard Errors assume that the covariance matrix of the errors is correctly specified."
      ],
      "text/plain": [
       "<class 'statsmodels.iolib.summary.Summary'>\n",
       "\"\"\"\n",
       "                            OLS Regression Results                            \n",
       "==============================================================================\n",
       "Dep. Variable:                      y   R-squared:                       0.741\n",
       "Model:                            OLS   Adj. R-squared:                  0.739\n",
       "Method:                 Least Squares   F-statistic:                     368.1\n",
       "Date:                Thu, 03 Oct 2019   Prob (F-statistic):          6.67e-296\n",
       "Time:                        17:59:36   Log-Likelihood:                -773.15\n",
       "No. Observations:                1039   AIC:                             1562.\n",
       "Df Residuals:                    1031   BIC:                             1602.\n",
       "Df Model:                           8                                         \n",
       "Covariance Type:            nonrobust                                         \n",
       "==============================================================================\n",
       "                 coef    std err          t      P>|t|      [0.025      0.975]\n",
       "------------------------------------------------------------------------------\n",
       "x1            -0.0291      0.031     -0.926      0.355      -0.091       0.033\n",
       "x2             0.1562      0.023      6.686      0.000       0.110       0.202\n",
       "x3             0.2699      0.022     12.284      0.000       0.227       0.313\n",
       "x4             0.1791      0.028      6.481      0.000       0.125       0.233\n",
       "x5             0.2488      0.023     10.597      0.000       0.203       0.295\n",
       "x6            -0.2486      0.032     -7.749      0.000      -0.312      -0.186\n",
       "x7             0.1242      0.027      4.548      0.000       0.071       0.178\n",
       "x8             0.1764      0.025      7.177      0.000       0.128       0.225\n",
       "==============================================================================\n",
       "Omnibus:                        7.208   Durbin-Watson:                   0.213\n",
       "Prob(Omnibus):                  0.027   Jarque-Bera (JB):                9.561\n",
       "Skew:                          -0.036   Prob(JB):                      0.00839\n",
       "Kurtosis:                       3.464   Cond. No.                         5.52\n",
       "==============================================================================\n",
       "\n",
       "Warnings:\n",
       "[1] Standard Errors assume that the covariance matrix of the errors is correctly specified.\n",
       "\"\"\""
      ]
     },
     "execution_count": 13,
     "metadata": {},
     "output_type": "execute_result"
    }
   ],
   "source": [
    "model = sm.OLS(y_scaled, X_scaled).fit()\n",
    "predictions = model.predict(X_scaled)\n",
    "model.summary()"
   ]
  },
  {
   "cell_type": "code",
   "execution_count": 14,
   "metadata": {},
   "outputs": [
    {
     "data": {
      "text/plain": [
       "1039"
      ]
     },
     "execution_count": 14,
     "metadata": {},
     "output_type": "execute_result"
    }
   ],
   "source": [
    "len(predictions)"
   ]
  },
  {
   "cell_type": "code",
   "execution_count": 15,
   "metadata": {},
   "outputs": [
    {
     "data": {
      "text/plain": [
       "1039"
      ]
     },
     "execution_count": 15,
     "metadata": {},
     "output_type": "execute_result"
    }
   ],
   "source": [
    "len(y_scaled)"
   ]
  },
  {
   "cell_type": "code",
   "execution_count": 16,
   "metadata": {},
   "outputs": [
    {
     "data": {
      "image/png": "[encoded data removed]",
      "text/plain": [
       "<Figure size 432x288 with 1 Axes>"
      ]
     },
     "metadata": {
      "needs_background": "light"
     },
     "output_type": "display_data"
    }
   ],
   "source": [
    "# Check predictions by visualizing residuals -> differences between the actual values of y, and the predictions\n",
    "plt.scatter(predictions, y_scaled)\n",
    "plt.hlines(y=0, xmin=predictions.min(), xmax=predictions.max())\n",
    "plt.show()"
   ]
  }
 ],
 "metadata": {
  "kernelspec": {
   "display_name": "Python 3",
   "language": "python",
   "name": "python3"
  },
  "language_info": {
   "codemirror_mode": {
    "name": "ipython",
    "version": 3
   },
   "file_extension": ".py",
   "mimetype": "text/x-python",
   "name": "python",
   "nbconvert_exporter": "python",
   "pygments_lexer": "ipython3",
   "version": "3.6.8"
  }
 },
 "nbformat": 4,
 "nbformat_minor": 2
}
